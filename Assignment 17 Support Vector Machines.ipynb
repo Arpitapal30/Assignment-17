{
 "cells": [
  {
   "cell_type": "code",
   "execution_count": null,
   "id": "1d208708",
   "metadata": {},
   "outputs": [],
   "source": [
    "import warnings\n",
    "warnings.filterwarnings('ignore')"
   ]
  },
  {
   "cell_type": "code",
   "execution_count": null,
   "id": "e6f20dc3",
   "metadata": {},
   "outputs": [],
   "source": [
    "\n",
    "\n",
    "import pandas as pd"
   ]
  },
  {
   "cell_type": "code",
   "execution_count": 3,
   "id": "a89419c4",
   "metadata": {},
   "outputs": [
    {
     "data": {
      "text/html": [
       "<div>\n",
       "<style scoped>\n",
       "    .dataframe tbody tr th:only-of-type {\n",
       "        vertical-align: middle;\n",
       "    }\n",
       "\n",
       "    .dataframe tbody tr th {\n",
       "        vertical-align: top;\n",
       "    }\n",
       "\n",
       "    .dataframe thead th {\n",
       "        text-align: right;\n",
       "    }\n",
       "</style>\n",
       "<table border=\"1\" class=\"dataframe\">\n",
       "  <thead>\n",
       "    <tr style=\"text-align: right;\">\n",
       "      <th></th>\n",
       "      <th>age</th>\n",
       "      <th>workclass</th>\n",
       "      <th>education</th>\n",
       "      <th>educationno</th>\n",
       "      <th>maritalstatus</th>\n",
       "      <th>occupation</th>\n",
       "      <th>relationship</th>\n",
       "      <th>race</th>\n",
       "      <th>sex</th>\n",
       "      <th>capitalgain</th>\n",
       "      <th>capitalloss</th>\n",
       "      <th>hoursperweek</th>\n",
       "      <th>native</th>\n",
       "      <th>Salary</th>\n",
       "    </tr>\n",
       "  </thead>\n",
       "  <tbody>\n",
       "    <tr>\n",
       "      <th>0</th>\n",
       "      <td>39</td>\n",
       "      <td>State-gov</td>\n",
       "      <td>Bachelors</td>\n",
       "      <td>13</td>\n",
       "      <td>Never-married</td>\n",
       "      <td>Adm-clerical</td>\n",
       "      <td>Not-in-family</td>\n",
       "      <td>White</td>\n",
       "      <td>Male</td>\n",
       "      <td>2174</td>\n",
       "      <td>0</td>\n",
       "      <td>40</td>\n",
       "      <td>United-States</td>\n",
       "      <td>&lt;=50K</td>\n",
       "    </tr>\n",
       "    <tr>\n",
       "      <th>1</th>\n",
       "      <td>50</td>\n",
       "      <td>Self-emp-not-inc</td>\n",
       "      <td>Bachelors</td>\n",
       "      <td>13</td>\n",
       "      <td>Married-civ-spouse</td>\n",
       "      <td>Exec-managerial</td>\n",
       "      <td>Husband</td>\n",
       "      <td>White</td>\n",
       "      <td>Male</td>\n",
       "      <td>0</td>\n",
       "      <td>0</td>\n",
       "      <td>13</td>\n",
       "      <td>United-States</td>\n",
       "      <td>&lt;=50K</td>\n",
       "    </tr>\n",
       "    <tr>\n",
       "      <th>2</th>\n",
       "      <td>38</td>\n",
       "      <td>Private</td>\n",
       "      <td>HS-grad</td>\n",
       "      <td>9</td>\n",
       "      <td>Divorced</td>\n",
       "      <td>Handlers-cleaners</td>\n",
       "      <td>Not-in-family</td>\n",
       "      <td>White</td>\n",
       "      <td>Male</td>\n",
       "      <td>0</td>\n",
       "      <td>0</td>\n",
       "      <td>40</td>\n",
       "      <td>United-States</td>\n",
       "      <td>&lt;=50K</td>\n",
       "    </tr>\n",
       "    <tr>\n",
       "      <th>3</th>\n",
       "      <td>53</td>\n",
       "      <td>Private</td>\n",
       "      <td>11th</td>\n",
       "      <td>7</td>\n",
       "      <td>Married-civ-spouse</td>\n",
       "      <td>Handlers-cleaners</td>\n",
       "      <td>Husband</td>\n",
       "      <td>Black</td>\n",
       "      <td>Male</td>\n",
       "      <td>0</td>\n",
       "      <td>0</td>\n",
       "      <td>40</td>\n",
       "      <td>United-States</td>\n",
       "      <td>&lt;=50K</td>\n",
       "    </tr>\n",
       "    <tr>\n",
       "      <th>4</th>\n",
       "      <td>28</td>\n",
       "      <td>Private</td>\n",
       "      <td>Bachelors</td>\n",
       "      <td>13</td>\n",
       "      <td>Married-civ-spouse</td>\n",
       "      <td>Prof-specialty</td>\n",
       "      <td>Wife</td>\n",
       "      <td>Black</td>\n",
       "      <td>Female</td>\n",
       "      <td>0</td>\n",
       "      <td>0</td>\n",
       "      <td>40</td>\n",
       "      <td>Cuba</td>\n",
       "      <td>&lt;=50K</td>\n",
       "    </tr>\n",
       "    <tr>\n",
       "      <th>...</th>\n",
       "      <td>...</td>\n",
       "      <td>...</td>\n",
       "      <td>...</td>\n",
       "      <td>...</td>\n",
       "      <td>...</td>\n",
       "      <td>...</td>\n",
       "      <td>...</td>\n",
       "      <td>...</td>\n",
       "      <td>...</td>\n",
       "      <td>...</td>\n",
       "      <td>...</td>\n",
       "      <td>...</td>\n",
       "      <td>...</td>\n",
       "      <td>...</td>\n",
       "    </tr>\n",
       "    <tr>\n",
       "      <th>30156</th>\n",
       "      <td>27</td>\n",
       "      <td>Private</td>\n",
       "      <td>Assoc-acdm</td>\n",
       "      <td>12</td>\n",
       "      <td>Married-civ-spouse</td>\n",
       "      <td>Tech-support</td>\n",
       "      <td>Wife</td>\n",
       "      <td>White</td>\n",
       "      <td>Female</td>\n",
       "      <td>0</td>\n",
       "      <td>0</td>\n",
       "      <td>38</td>\n",
       "      <td>United-States</td>\n",
       "      <td>&lt;=50K</td>\n",
       "    </tr>\n",
       "    <tr>\n",
       "      <th>30157</th>\n",
       "      <td>40</td>\n",
       "      <td>Private</td>\n",
       "      <td>HS-grad</td>\n",
       "      <td>9</td>\n",
       "      <td>Married-civ-spouse</td>\n",
       "      <td>Machine-op-inspct</td>\n",
       "      <td>Husband</td>\n",
       "      <td>White</td>\n",
       "      <td>Male</td>\n",
       "      <td>0</td>\n",
       "      <td>0</td>\n",
       "      <td>40</td>\n",
       "      <td>United-States</td>\n",
       "      <td>&gt;50K</td>\n",
       "    </tr>\n",
       "    <tr>\n",
       "      <th>30158</th>\n",
       "      <td>58</td>\n",
       "      <td>Private</td>\n",
       "      <td>HS-grad</td>\n",
       "      <td>9</td>\n",
       "      <td>Widowed</td>\n",
       "      <td>Adm-clerical</td>\n",
       "      <td>Unmarried</td>\n",
       "      <td>White</td>\n",
       "      <td>Female</td>\n",
       "      <td>0</td>\n",
       "      <td>0</td>\n",
       "      <td>40</td>\n",
       "      <td>United-States</td>\n",
       "      <td>&lt;=50K</td>\n",
       "    </tr>\n",
       "    <tr>\n",
       "      <th>30159</th>\n",
       "      <td>22</td>\n",
       "      <td>Private</td>\n",
       "      <td>HS-grad</td>\n",
       "      <td>9</td>\n",
       "      <td>Never-married</td>\n",
       "      <td>Adm-clerical</td>\n",
       "      <td>Own-child</td>\n",
       "      <td>White</td>\n",
       "      <td>Male</td>\n",
       "      <td>0</td>\n",
       "      <td>0</td>\n",
       "      <td>20</td>\n",
       "      <td>United-States</td>\n",
       "      <td>&lt;=50K</td>\n",
       "    </tr>\n",
       "    <tr>\n",
       "      <th>30160</th>\n",
       "      <td>52</td>\n",
       "      <td>Self-emp-inc</td>\n",
       "      <td>HS-grad</td>\n",
       "      <td>9</td>\n",
       "      <td>Married-civ-spouse</td>\n",
       "      <td>Exec-managerial</td>\n",
       "      <td>Wife</td>\n",
       "      <td>White</td>\n",
       "      <td>Female</td>\n",
       "      <td>15024</td>\n",
       "      <td>0</td>\n",
       "      <td>40</td>\n",
       "      <td>United-States</td>\n",
       "      <td>&gt;50K</td>\n",
       "    </tr>\n",
       "  </tbody>\n",
       "</table>\n",
       "<p>30161 rows × 14 columns</p>\n",
       "</div>"
      ],
      "text/plain": [
       "       age          workclass    education  educationno        maritalstatus  \\\n",
       "0       39          State-gov    Bachelors           13        Never-married   \n",
       "1       50   Self-emp-not-inc    Bachelors           13   Married-civ-spouse   \n",
       "2       38            Private      HS-grad            9             Divorced   \n",
       "3       53            Private         11th            7   Married-civ-spouse   \n",
       "4       28            Private    Bachelors           13   Married-civ-spouse   \n",
       "...    ...                ...          ...          ...                  ...   \n",
       "30156   27            Private   Assoc-acdm           12   Married-civ-spouse   \n",
       "30157   40            Private      HS-grad            9   Married-civ-spouse   \n",
       "30158   58            Private      HS-grad            9              Widowed   \n",
       "30159   22            Private      HS-grad            9        Never-married   \n",
       "30160   52       Self-emp-inc      HS-grad            9   Married-civ-spouse   \n",
       "\n",
       "               occupation    relationship    race      sex  capitalgain  \\\n",
       "0            Adm-clerical   Not-in-family   White     Male         2174   \n",
       "1         Exec-managerial         Husband   White     Male            0   \n",
       "2       Handlers-cleaners   Not-in-family   White     Male            0   \n",
       "3       Handlers-cleaners         Husband   Black     Male            0   \n",
       "4          Prof-specialty            Wife   Black   Female            0   \n",
       "...                   ...             ...     ...      ...          ...   \n",
       "30156        Tech-support            Wife   White   Female            0   \n",
       "30157   Machine-op-inspct         Husband   White     Male            0   \n",
       "30158        Adm-clerical       Unmarried   White   Female            0   \n",
       "30159        Adm-clerical       Own-child   White     Male            0   \n",
       "30160     Exec-managerial            Wife   White   Female        15024   \n",
       "\n",
       "       capitalloss  hoursperweek          native  Salary  \n",
       "0                0            40   United-States   <=50K  \n",
       "1                0            13   United-States   <=50K  \n",
       "2                0            40   United-States   <=50K  \n",
       "3                0            40   United-States   <=50K  \n",
       "4                0            40            Cuba   <=50K  \n",
       "...            ...           ...             ...     ...  \n",
       "30156            0            38   United-States   <=50K  \n",
       "30157            0            40   United-States    >50K  \n",
       "30158            0            40   United-States   <=50K  \n",
       "30159            0            20   United-States   <=50K  \n",
       "30160            0            40   United-States    >50K  \n",
       "\n",
       "[30161 rows x 14 columns]"
      ]
     },
     "execution_count": 3,
     "metadata": {},
     "output_type": "execute_result"
    }
   ],
   "source": [
    "salary_train = pd.read_csv('SalaryData_Train(1).csv')\n",
    "salary_train    "
   ]
  },
  {
   "cell_type": "code",
   "execution_count": 4,
   "id": "416269db",
   "metadata": {},
   "outputs": [
    {
     "data": {
      "text/html": [
       "<div>\n",
       "<style scoped>\n",
       "    .dataframe tbody tr th:only-of-type {\n",
       "        vertical-align: middle;\n",
       "    }\n",
       "\n",
       "    .dataframe tbody tr th {\n",
       "        vertical-align: top;\n",
       "    }\n",
       "\n",
       "    .dataframe thead th {\n",
       "        text-align: right;\n",
       "    }\n",
       "</style>\n",
       "<table border=\"1\" class=\"dataframe\">\n",
       "  <thead>\n",
       "    <tr style=\"text-align: right;\">\n",
       "      <th></th>\n",
       "      <th>age</th>\n",
       "      <th>workclass</th>\n",
       "      <th>education</th>\n",
       "      <th>educationno</th>\n",
       "      <th>maritalstatus</th>\n",
       "      <th>occupation</th>\n",
       "      <th>relationship</th>\n",
       "      <th>race</th>\n",
       "      <th>sex</th>\n",
       "      <th>capitalgain</th>\n",
       "      <th>capitalloss</th>\n",
       "      <th>hoursperweek</th>\n",
       "      <th>native</th>\n",
       "      <th>Salary</th>\n",
       "    </tr>\n",
       "  </thead>\n",
       "  <tbody>\n",
       "    <tr>\n",
       "      <th>0</th>\n",
       "      <td>25</td>\n",
       "      <td>Private</td>\n",
       "      <td>11th</td>\n",
       "      <td>7</td>\n",
       "      <td>Never-married</td>\n",
       "      <td>Machine-op-inspct</td>\n",
       "      <td>Own-child</td>\n",
       "      <td>Black</td>\n",
       "      <td>Male</td>\n",
       "      <td>0</td>\n",
       "      <td>0</td>\n",
       "      <td>40</td>\n",
       "      <td>United-States</td>\n",
       "      <td>&lt;=50K</td>\n",
       "    </tr>\n",
       "    <tr>\n",
       "      <th>1</th>\n",
       "      <td>38</td>\n",
       "      <td>Private</td>\n",
       "      <td>HS-grad</td>\n",
       "      <td>9</td>\n",
       "      <td>Married-civ-spouse</td>\n",
       "      <td>Farming-fishing</td>\n",
       "      <td>Husband</td>\n",
       "      <td>White</td>\n",
       "      <td>Male</td>\n",
       "      <td>0</td>\n",
       "      <td>0</td>\n",
       "      <td>50</td>\n",
       "      <td>United-States</td>\n",
       "      <td>&lt;=50K</td>\n",
       "    </tr>\n",
       "    <tr>\n",
       "      <th>2</th>\n",
       "      <td>28</td>\n",
       "      <td>Local-gov</td>\n",
       "      <td>Assoc-acdm</td>\n",
       "      <td>12</td>\n",
       "      <td>Married-civ-spouse</td>\n",
       "      <td>Protective-serv</td>\n",
       "      <td>Husband</td>\n",
       "      <td>White</td>\n",
       "      <td>Male</td>\n",
       "      <td>0</td>\n",
       "      <td>0</td>\n",
       "      <td>40</td>\n",
       "      <td>United-States</td>\n",
       "      <td>&gt;50K</td>\n",
       "    </tr>\n",
       "    <tr>\n",
       "      <th>3</th>\n",
       "      <td>44</td>\n",
       "      <td>Private</td>\n",
       "      <td>Some-college</td>\n",
       "      <td>10</td>\n",
       "      <td>Married-civ-spouse</td>\n",
       "      <td>Machine-op-inspct</td>\n",
       "      <td>Husband</td>\n",
       "      <td>Black</td>\n",
       "      <td>Male</td>\n",
       "      <td>7688</td>\n",
       "      <td>0</td>\n",
       "      <td>40</td>\n",
       "      <td>United-States</td>\n",
       "      <td>&gt;50K</td>\n",
       "    </tr>\n",
       "    <tr>\n",
       "      <th>4</th>\n",
       "      <td>34</td>\n",
       "      <td>Private</td>\n",
       "      <td>10th</td>\n",
       "      <td>6</td>\n",
       "      <td>Never-married</td>\n",
       "      <td>Other-service</td>\n",
       "      <td>Not-in-family</td>\n",
       "      <td>White</td>\n",
       "      <td>Male</td>\n",
       "      <td>0</td>\n",
       "      <td>0</td>\n",
       "      <td>30</td>\n",
       "      <td>United-States</td>\n",
       "      <td>&lt;=50K</td>\n",
       "    </tr>\n",
       "    <tr>\n",
       "      <th>...</th>\n",
       "      <td>...</td>\n",
       "      <td>...</td>\n",
       "      <td>...</td>\n",
       "      <td>...</td>\n",
       "      <td>...</td>\n",
       "      <td>...</td>\n",
       "      <td>...</td>\n",
       "      <td>...</td>\n",
       "      <td>...</td>\n",
       "      <td>...</td>\n",
       "      <td>...</td>\n",
       "      <td>...</td>\n",
       "      <td>...</td>\n",
       "      <td>...</td>\n",
       "    </tr>\n",
       "    <tr>\n",
       "      <th>15055</th>\n",
       "      <td>33</td>\n",
       "      <td>Private</td>\n",
       "      <td>Bachelors</td>\n",
       "      <td>13</td>\n",
       "      <td>Never-married</td>\n",
       "      <td>Prof-specialty</td>\n",
       "      <td>Own-child</td>\n",
       "      <td>White</td>\n",
       "      <td>Male</td>\n",
       "      <td>0</td>\n",
       "      <td>0</td>\n",
       "      <td>40</td>\n",
       "      <td>United-States</td>\n",
       "      <td>&lt;=50K</td>\n",
       "    </tr>\n",
       "    <tr>\n",
       "      <th>15056</th>\n",
       "      <td>39</td>\n",
       "      <td>Private</td>\n",
       "      <td>Bachelors</td>\n",
       "      <td>13</td>\n",
       "      <td>Divorced</td>\n",
       "      <td>Prof-specialty</td>\n",
       "      <td>Not-in-family</td>\n",
       "      <td>White</td>\n",
       "      <td>Female</td>\n",
       "      <td>0</td>\n",
       "      <td>0</td>\n",
       "      <td>36</td>\n",
       "      <td>United-States</td>\n",
       "      <td>&lt;=50K</td>\n",
       "    </tr>\n",
       "    <tr>\n",
       "      <th>15057</th>\n",
       "      <td>38</td>\n",
       "      <td>Private</td>\n",
       "      <td>Bachelors</td>\n",
       "      <td>13</td>\n",
       "      <td>Married-civ-spouse</td>\n",
       "      <td>Prof-specialty</td>\n",
       "      <td>Husband</td>\n",
       "      <td>White</td>\n",
       "      <td>Male</td>\n",
       "      <td>0</td>\n",
       "      <td>0</td>\n",
       "      <td>50</td>\n",
       "      <td>United-States</td>\n",
       "      <td>&lt;=50K</td>\n",
       "    </tr>\n",
       "    <tr>\n",
       "      <th>15058</th>\n",
       "      <td>44</td>\n",
       "      <td>Private</td>\n",
       "      <td>Bachelors</td>\n",
       "      <td>13</td>\n",
       "      <td>Divorced</td>\n",
       "      <td>Adm-clerical</td>\n",
       "      <td>Own-child</td>\n",
       "      <td>Asian-Pac-Islander</td>\n",
       "      <td>Male</td>\n",
       "      <td>5455</td>\n",
       "      <td>0</td>\n",
       "      <td>40</td>\n",
       "      <td>United-States</td>\n",
       "      <td>&lt;=50K</td>\n",
       "    </tr>\n",
       "    <tr>\n",
       "      <th>15059</th>\n",
       "      <td>35</td>\n",
       "      <td>Self-emp-inc</td>\n",
       "      <td>Bachelors</td>\n",
       "      <td>13</td>\n",
       "      <td>Married-civ-spouse</td>\n",
       "      <td>Exec-managerial</td>\n",
       "      <td>Husband</td>\n",
       "      <td>White</td>\n",
       "      <td>Male</td>\n",
       "      <td>0</td>\n",
       "      <td>0</td>\n",
       "      <td>60</td>\n",
       "      <td>United-States</td>\n",
       "      <td>&gt;50K</td>\n",
       "    </tr>\n",
       "  </tbody>\n",
       "</table>\n",
       "<p>15060 rows × 14 columns</p>\n",
       "</div>"
      ],
      "text/plain": [
       "       age      workclass      education  educationno        maritalstatus  \\\n",
       "0       25        Private           11th            7        Never-married   \n",
       "1       38        Private        HS-grad            9   Married-civ-spouse   \n",
       "2       28      Local-gov     Assoc-acdm           12   Married-civ-spouse   \n",
       "3       44        Private   Some-college           10   Married-civ-spouse   \n",
       "4       34        Private           10th            6        Never-married   \n",
       "...    ...            ...            ...          ...                  ...   \n",
       "15055   33        Private      Bachelors           13        Never-married   \n",
       "15056   39        Private      Bachelors           13             Divorced   \n",
       "15057   38        Private      Bachelors           13   Married-civ-spouse   \n",
       "15058   44        Private      Bachelors           13             Divorced   \n",
       "15059   35   Self-emp-inc      Bachelors           13   Married-civ-spouse   \n",
       "\n",
       "               occupation    relationship                 race      sex  \\\n",
       "0       Machine-op-inspct       Own-child                Black     Male   \n",
       "1         Farming-fishing         Husband                White     Male   \n",
       "2         Protective-serv         Husband                White     Male   \n",
       "3       Machine-op-inspct         Husband                Black     Male   \n",
       "4           Other-service   Not-in-family                White     Male   \n",
       "...                   ...             ...                  ...      ...   \n",
       "15055      Prof-specialty       Own-child                White     Male   \n",
       "15056      Prof-specialty   Not-in-family                White   Female   \n",
       "15057      Prof-specialty         Husband                White     Male   \n",
       "15058        Adm-clerical       Own-child   Asian-Pac-Islander     Male   \n",
       "15059     Exec-managerial         Husband                White     Male   \n",
       "\n",
       "       capitalgain  capitalloss  hoursperweek          native  Salary  \n",
       "0                0            0            40   United-States   <=50K  \n",
       "1                0            0            50   United-States   <=50K  \n",
       "2                0            0            40   United-States    >50K  \n",
       "3             7688            0            40   United-States    >50K  \n",
       "4                0            0            30   United-States   <=50K  \n",
       "...            ...          ...           ...             ...     ...  \n",
       "15055            0            0            40   United-States   <=50K  \n",
       "15056            0            0            36   United-States   <=50K  \n",
       "15057            0            0            50   United-States   <=50K  \n",
       "15058         5455            0            40   United-States   <=50K  \n",
       "15059            0            0            60   United-States    >50K  \n",
       "\n",
       "[15060 rows x 14 columns]"
      ]
     },
     "execution_count": 4,
     "metadata": {},
     "output_type": "execute_result"
    }
   ],
   "source": [
    "# Importing Testing Dataset\n",
    "salary_test = pd.read_csv('SalaryData_Test.csv')\n",
    "salary_test"
   ]
  },
  {
   "cell_type": "code",
   "execution_count": 5,
   "id": "068fae1a",
   "metadata": {},
   "outputs": [
    {
     "data": {
      "text/html": [
       "<div>\n",
       "<style scoped>\n",
       "    .dataframe tbody tr th:only-of-type {\n",
       "        vertical-align: middle;\n",
       "    }\n",
       "\n",
       "    .dataframe tbody tr th {\n",
       "        vertical-align: top;\n",
       "    }\n",
       "\n",
       "    .dataframe thead th {\n",
       "        text-align: right;\n",
       "    }\n",
       "</style>\n",
       "<table border=\"1\" class=\"dataframe\">\n",
       "  <thead>\n",
       "    <tr style=\"text-align: right;\">\n",
       "      <th></th>\n",
       "      <th>age</th>\n",
       "      <th>workclass</th>\n",
       "      <th>education</th>\n",
       "      <th>educationno</th>\n",
       "      <th>maritalstatus</th>\n",
       "      <th>occupation</th>\n",
       "      <th>relationship</th>\n",
       "      <th>race</th>\n",
       "      <th>sex</th>\n",
       "      <th>capitalgain</th>\n",
       "      <th>capitalloss</th>\n",
       "      <th>hoursperweek</th>\n",
       "      <th>native</th>\n",
       "      <th>Salary</th>\n",
       "    </tr>\n",
       "  </thead>\n",
       "  <tbody>\n",
       "    <tr>\n",
       "      <th>0</th>\n",
       "      <td>39</td>\n",
       "      <td>State-gov</td>\n",
       "      <td>Bachelors</td>\n",
       "      <td>13</td>\n",
       "      <td>Never-married</td>\n",
       "      <td>Adm-clerical</td>\n",
       "      <td>Not-in-family</td>\n",
       "      <td>White</td>\n",
       "      <td>Male</td>\n",
       "      <td>2174</td>\n",
       "      <td>0</td>\n",
       "      <td>40</td>\n",
       "      <td>United-States</td>\n",
       "      <td>&lt;=50K</td>\n",
       "    </tr>\n",
       "    <tr>\n",
       "      <th>1</th>\n",
       "      <td>50</td>\n",
       "      <td>Self-emp-not-inc</td>\n",
       "      <td>Bachelors</td>\n",
       "      <td>13</td>\n",
       "      <td>Married-civ-spouse</td>\n",
       "      <td>Exec-managerial</td>\n",
       "      <td>Husband</td>\n",
       "      <td>White</td>\n",
       "      <td>Male</td>\n",
       "      <td>0</td>\n",
       "      <td>0</td>\n",
       "      <td>13</td>\n",
       "      <td>United-States</td>\n",
       "      <td>&lt;=50K</td>\n",
       "    </tr>\n",
       "    <tr>\n",
       "      <th>2</th>\n",
       "      <td>38</td>\n",
       "      <td>Private</td>\n",
       "      <td>HS-grad</td>\n",
       "      <td>9</td>\n",
       "      <td>Divorced</td>\n",
       "      <td>Handlers-cleaners</td>\n",
       "      <td>Not-in-family</td>\n",
       "      <td>White</td>\n",
       "      <td>Male</td>\n",
       "      <td>0</td>\n",
       "      <td>0</td>\n",
       "      <td>40</td>\n",
       "      <td>United-States</td>\n",
       "      <td>&lt;=50K</td>\n",
       "    </tr>\n",
       "    <tr>\n",
       "      <th>3</th>\n",
       "      <td>53</td>\n",
       "      <td>Private</td>\n",
       "      <td>11th</td>\n",
       "      <td>7</td>\n",
       "      <td>Married-civ-spouse</td>\n",
       "      <td>Handlers-cleaners</td>\n",
       "      <td>Husband</td>\n",
       "      <td>Black</td>\n",
       "      <td>Male</td>\n",
       "      <td>0</td>\n",
       "      <td>0</td>\n",
       "      <td>40</td>\n",
       "      <td>United-States</td>\n",
       "      <td>&lt;=50K</td>\n",
       "    </tr>\n",
       "    <tr>\n",
       "      <th>4</th>\n",
       "      <td>28</td>\n",
       "      <td>Private</td>\n",
       "      <td>Bachelors</td>\n",
       "      <td>13</td>\n",
       "      <td>Married-civ-spouse</td>\n",
       "      <td>Prof-specialty</td>\n",
       "      <td>Wife</td>\n",
       "      <td>Black</td>\n",
       "      <td>Female</td>\n",
       "      <td>0</td>\n",
       "      <td>0</td>\n",
       "      <td>40</td>\n",
       "      <td>Cuba</td>\n",
       "      <td>&lt;=50K</td>\n",
       "    </tr>\n",
       "    <tr>\n",
       "      <th>...</th>\n",
       "      <td>...</td>\n",
       "      <td>...</td>\n",
       "      <td>...</td>\n",
       "      <td>...</td>\n",
       "      <td>...</td>\n",
       "      <td>...</td>\n",
       "      <td>...</td>\n",
       "      <td>...</td>\n",
       "      <td>...</td>\n",
       "      <td>...</td>\n",
       "      <td>...</td>\n",
       "      <td>...</td>\n",
       "      <td>...</td>\n",
       "      <td>...</td>\n",
       "    </tr>\n",
       "    <tr>\n",
       "      <th>45216</th>\n",
       "      <td>33</td>\n",
       "      <td>Private</td>\n",
       "      <td>Bachelors</td>\n",
       "      <td>13</td>\n",
       "      <td>Never-married</td>\n",
       "      <td>Prof-specialty</td>\n",
       "      <td>Own-child</td>\n",
       "      <td>White</td>\n",
       "      <td>Male</td>\n",
       "      <td>0</td>\n",
       "      <td>0</td>\n",
       "      <td>40</td>\n",
       "      <td>United-States</td>\n",
       "      <td>&lt;=50K</td>\n",
       "    </tr>\n",
       "    <tr>\n",
       "      <th>45217</th>\n",
       "      <td>39</td>\n",
       "      <td>Private</td>\n",
       "      <td>Bachelors</td>\n",
       "      <td>13</td>\n",
       "      <td>Divorced</td>\n",
       "      <td>Prof-specialty</td>\n",
       "      <td>Not-in-family</td>\n",
       "      <td>White</td>\n",
       "      <td>Female</td>\n",
       "      <td>0</td>\n",
       "      <td>0</td>\n",
       "      <td>36</td>\n",
       "      <td>United-States</td>\n",
       "      <td>&lt;=50K</td>\n",
       "    </tr>\n",
       "    <tr>\n",
       "      <th>45218</th>\n",
       "      <td>38</td>\n",
       "      <td>Private</td>\n",
       "      <td>Bachelors</td>\n",
       "      <td>13</td>\n",
       "      <td>Married-civ-spouse</td>\n",
       "      <td>Prof-specialty</td>\n",
       "      <td>Husband</td>\n",
       "      <td>White</td>\n",
       "      <td>Male</td>\n",
       "      <td>0</td>\n",
       "      <td>0</td>\n",
       "      <td>50</td>\n",
       "      <td>United-States</td>\n",
       "      <td>&lt;=50K</td>\n",
       "    </tr>\n",
       "    <tr>\n",
       "      <th>45219</th>\n",
       "      <td>44</td>\n",
       "      <td>Private</td>\n",
       "      <td>Bachelors</td>\n",
       "      <td>13</td>\n",
       "      <td>Divorced</td>\n",
       "      <td>Adm-clerical</td>\n",
       "      <td>Own-child</td>\n",
       "      <td>Asian-Pac-Islander</td>\n",
       "      <td>Male</td>\n",
       "      <td>5455</td>\n",
       "      <td>0</td>\n",
       "      <td>40</td>\n",
       "      <td>United-States</td>\n",
       "      <td>&lt;=50K</td>\n",
       "    </tr>\n",
       "    <tr>\n",
       "      <th>45220</th>\n",
       "      <td>35</td>\n",
       "      <td>Self-emp-inc</td>\n",
       "      <td>Bachelors</td>\n",
       "      <td>13</td>\n",
       "      <td>Married-civ-spouse</td>\n",
       "      <td>Exec-managerial</td>\n",
       "      <td>Husband</td>\n",
       "      <td>White</td>\n",
       "      <td>Male</td>\n",
       "      <td>0</td>\n",
       "      <td>0</td>\n",
       "      <td>60</td>\n",
       "      <td>United-States</td>\n",
       "      <td>&gt;50K</td>\n",
       "    </tr>\n",
       "  </tbody>\n",
       "</table>\n",
       "<p>45221 rows × 14 columns</p>\n",
       "</div>"
      ],
      "text/plain": [
       "       age          workclass   education  educationno        maritalstatus  \\\n",
       "0       39          State-gov   Bachelors           13        Never-married   \n",
       "1       50   Self-emp-not-inc   Bachelors           13   Married-civ-spouse   \n",
       "2       38            Private     HS-grad            9             Divorced   \n",
       "3       53            Private        11th            7   Married-civ-spouse   \n",
       "4       28            Private   Bachelors           13   Married-civ-spouse   \n",
       "...    ...                ...         ...          ...                  ...   \n",
       "45216   33            Private   Bachelors           13        Never-married   \n",
       "45217   39            Private   Bachelors           13             Divorced   \n",
       "45218   38            Private   Bachelors           13   Married-civ-spouse   \n",
       "45219   44            Private   Bachelors           13             Divorced   \n",
       "45220   35       Self-emp-inc   Bachelors           13   Married-civ-spouse   \n",
       "\n",
       "               occupation    relationship                 race      sex  \\\n",
       "0            Adm-clerical   Not-in-family                White     Male   \n",
       "1         Exec-managerial         Husband                White     Male   \n",
       "2       Handlers-cleaners   Not-in-family                White     Male   \n",
       "3       Handlers-cleaners         Husband                Black     Male   \n",
       "4          Prof-specialty            Wife                Black   Female   \n",
       "...                   ...             ...                  ...      ...   \n",
       "45216      Prof-specialty       Own-child                White     Male   \n",
       "45217      Prof-specialty   Not-in-family                White   Female   \n",
       "45218      Prof-specialty         Husband                White     Male   \n",
       "45219        Adm-clerical       Own-child   Asian-Pac-Islander     Male   \n",
       "45220     Exec-managerial         Husband                White     Male   \n",
       "\n",
       "       capitalgain  capitalloss  hoursperweek          native  Salary  \n",
       "0             2174            0            40   United-States   <=50K  \n",
       "1                0            0            13   United-States   <=50K  \n",
       "2                0            0            40   United-States   <=50K  \n",
       "3                0            0            40   United-States   <=50K  \n",
       "4                0            0            40            Cuba   <=50K  \n",
       "...            ...          ...           ...             ...     ...  \n",
       "45216            0            0            40   United-States   <=50K  \n",
       "45217            0            0            36   United-States   <=50K  \n",
       "45218            0            0            50   United-States   <=50K  \n",
       "45219         5455            0            40   United-States   <=50K  \n",
       "45220            0            0            60   United-States    >50K  \n",
       "\n",
       "[45221 rows x 14 columns]"
      ]
     },
     "execution_count": 5,
     "metadata": {},
     "output_type": "execute_result"
    }
   ],
   "source": [
    "# Merging Train and Test Data\n",
    "raw_data = salary_train.append(salary_test)\n",
    "raw_data.reset_index(inplace=True,drop=True)\n",
    "raw_data"
   ]
  },
  {
   "cell_type": "markdown",
   "id": "1b4d7068",
   "metadata": {},
   "source": [
    "### About the Dataset\n",
    "##### Prepare a classification model using SVM for salary data \n",
    "\n",
    "#### Data Description:\n",
    "\n",
    "* age -- age of a person\n",
    "* workclass\t-- A work class is a grouping of work \n",
    "* education\t-- Education of an individuals\t\n",
    "* maritalstatus -- Marital status of an individulas\t\n",
    "* occupation\t -- occupation of an individuals\n",
    "* relationship -- \t\n",
    "* race --  Race of an Individual\n",
    "* sex --  Gender of an Individual\n",
    "* capitalgain --  profit received from the sale of an investment\t\n",
    "* capitalloss\t-- A decrease in the value of a capital asset\n",
    "* hoursperweek -- number of hours work per week\t\n",
    "* native -- Native of an individual\n",
    "* Salary -- salary of an individual\n"
   ]
  },
  {
   "cell_type": "markdown",
   "id": "72115abd",
   "metadata": {},
   "source": [
    "### Data Exploration\n",
    "A Binary Classification Task as our classes to predict is 'Yes' or 'No' a Binomial Distribution"
   ]
  },
  {
   "cell_type": "code",
   "execution_count": 6,
   "id": "bf7caf3b",
   "metadata": {},
   "outputs": [
    {
     "name": "stdout",
     "output_type": "stream",
     "text": [
      "(45221, 14)\n"
     ]
    },
    {
     "data": {
      "text/html": [
       "<div>\n",
       "<style scoped>\n",
       "    .dataframe tbody tr th:only-of-type {\n",
       "        vertical-align: middle;\n",
       "    }\n",
       "\n",
       "    .dataframe tbody tr th {\n",
       "        vertical-align: top;\n",
       "    }\n",
       "\n",
       "    .dataframe thead th {\n",
       "        text-align: right;\n",
       "    }\n",
       "</style>\n",
       "<table border=\"1\" class=\"dataframe\">\n",
       "  <thead>\n",
       "    <tr style=\"text-align: right;\">\n",
       "      <th></th>\n",
       "      <th>age</th>\n",
       "      <th>workclass</th>\n",
       "      <th>education</th>\n",
       "      <th>educationno</th>\n",
       "      <th>maritalstatus</th>\n",
       "      <th>occupation</th>\n",
       "      <th>relationship</th>\n",
       "      <th>race</th>\n",
       "      <th>sex</th>\n",
       "      <th>capitalgain</th>\n",
       "      <th>capitalloss</th>\n",
       "      <th>hoursperweek</th>\n",
       "      <th>native</th>\n",
       "      <th>Salary</th>\n",
       "    </tr>\n",
       "  </thead>\n",
       "  <tbody>\n",
       "    <tr>\n",
       "      <th>0</th>\n",
       "      <td>39</td>\n",
       "      <td>State-gov</td>\n",
       "      <td>Bachelors</td>\n",
       "      <td>13</td>\n",
       "      <td>Never-married</td>\n",
       "      <td>Adm-clerical</td>\n",
       "      <td>Not-in-family</td>\n",
       "      <td>White</td>\n",
       "      <td>Male</td>\n",
       "      <td>2174</td>\n",
       "      <td>0</td>\n",
       "      <td>40</td>\n",
       "      <td>United-States</td>\n",
       "      <td>&lt;=50K</td>\n",
       "    </tr>\n",
       "    <tr>\n",
       "      <th>1</th>\n",
       "      <td>50</td>\n",
       "      <td>Self-emp-not-inc</td>\n",
       "      <td>Bachelors</td>\n",
       "      <td>13</td>\n",
       "      <td>Married-civ-spouse</td>\n",
       "      <td>Exec-managerial</td>\n",
       "      <td>Husband</td>\n",
       "      <td>White</td>\n",
       "      <td>Male</td>\n",
       "      <td>0</td>\n",
       "      <td>0</td>\n",
       "      <td>13</td>\n",
       "      <td>United-States</td>\n",
       "      <td>&lt;=50K</td>\n",
       "    </tr>\n",
       "    <tr>\n",
       "      <th>2</th>\n",
       "      <td>38</td>\n",
       "      <td>Private</td>\n",
       "      <td>HS-grad</td>\n",
       "      <td>9</td>\n",
       "      <td>Divorced</td>\n",
       "      <td>Handlers-cleaners</td>\n",
       "      <td>Not-in-family</td>\n",
       "      <td>White</td>\n",
       "      <td>Male</td>\n",
       "      <td>0</td>\n",
       "      <td>0</td>\n",
       "      <td>40</td>\n",
       "      <td>United-States</td>\n",
       "      <td>&lt;=50K</td>\n",
       "    </tr>\n",
       "    <tr>\n",
       "      <th>3</th>\n",
       "      <td>53</td>\n",
       "      <td>Private</td>\n",
       "      <td>11th</td>\n",
       "      <td>7</td>\n",
       "      <td>Married-civ-spouse</td>\n",
       "      <td>Handlers-cleaners</td>\n",
       "      <td>Husband</td>\n",
       "      <td>Black</td>\n",
       "      <td>Male</td>\n",
       "      <td>0</td>\n",
       "      <td>0</td>\n",
       "      <td>40</td>\n",
       "      <td>United-States</td>\n",
       "      <td>&lt;=50K</td>\n",
       "    </tr>\n",
       "    <tr>\n",
       "      <th>4</th>\n",
       "      <td>28</td>\n",
       "      <td>Private</td>\n",
       "      <td>Bachelors</td>\n",
       "      <td>13</td>\n",
       "      <td>Married-civ-spouse</td>\n",
       "      <td>Prof-specialty</td>\n",
       "      <td>Wife</td>\n",
       "      <td>Black</td>\n",
       "      <td>Female</td>\n",
       "      <td>0</td>\n",
       "      <td>0</td>\n",
       "      <td>40</td>\n",
       "      <td>Cuba</td>\n",
       "      <td>&lt;=50K</td>\n",
       "    </tr>\n",
       "  </tbody>\n",
       "</table>\n",
       "</div>"
      ],
      "text/plain": [
       "   age          workclass   education  educationno        maritalstatus  \\\n",
       "0   39          State-gov   Bachelors           13        Never-married   \n",
       "1   50   Self-emp-not-inc   Bachelors           13   Married-civ-spouse   \n",
       "2   38            Private     HS-grad            9             Divorced   \n",
       "3   53            Private        11th            7   Married-civ-spouse   \n",
       "4   28            Private   Bachelors           13   Married-civ-spouse   \n",
       "\n",
       "           occupation    relationship    race      sex  capitalgain  \\\n",
       "0        Adm-clerical   Not-in-family   White     Male         2174   \n",
       "1     Exec-managerial         Husband   White     Male            0   \n",
       "2   Handlers-cleaners   Not-in-family   White     Male            0   \n",
       "3   Handlers-cleaners         Husband   Black     Male            0   \n",
       "4      Prof-specialty            Wife   Black   Female            0   \n",
       "\n",
       "   capitalloss  hoursperweek          native  Salary  \n",
       "0            0            40   United-States   <=50K  \n",
       "1            0            13   United-States   <=50K  \n",
       "2            0            40   United-States   <=50K  \n",
       "3            0            40   United-States   <=50K  \n",
       "4            0            40            Cuba   <=50K  "
      ]
     },
     "execution_count": 6,
     "metadata": {},
     "output_type": "execute_result"
    }
   ],
   "source": [
    "# print shape of dataset with rows and columns\n",
    "print(raw_data.shape)\n",
    "# print top 5 records\n",
    "raw_data.head()"
   ]
  },
  {
   "cell_type": "markdown",
   "id": "63855465",
   "metadata": {},
   "source": [
    "## Descriptive Statistics"
   ]
  },
  {
   "cell_type": "code",
   "execution_count": 7,
   "id": "1ad93dbc",
   "metadata": {},
   "outputs": [
    {
     "data": {
      "text/html": [
       "<div>\n",
       "<style scoped>\n",
       "    .dataframe tbody tr th:only-of-type {\n",
       "        vertical-align: middle;\n",
       "    }\n",
       "\n",
       "    .dataframe tbody tr th {\n",
       "        vertical-align: top;\n",
       "    }\n",
       "\n",
       "    .dataframe thead th {\n",
       "        text-align: right;\n",
       "    }\n",
       "</style>\n",
       "<table border=\"1\" class=\"dataframe\">\n",
       "  <thead>\n",
       "    <tr style=\"text-align: right;\">\n",
       "      <th></th>\n",
       "      <th>age</th>\n",
       "      <th>educationno</th>\n",
       "      <th>capitalgain</th>\n",
       "      <th>capitalloss</th>\n",
       "      <th>hoursperweek</th>\n",
       "    </tr>\n",
       "  </thead>\n",
       "  <tbody>\n",
       "    <tr>\n",
       "      <th>count</th>\n",
       "      <td>45221.000000</td>\n",
       "      <td>45221.000000</td>\n",
       "      <td>45221.000000</td>\n",
       "      <td>45221.000000</td>\n",
       "      <td>45221.000000</td>\n",
       "    </tr>\n",
       "    <tr>\n",
       "      <th>mean</th>\n",
       "      <td>38.548086</td>\n",
       "      <td>10.118463</td>\n",
       "      <td>1101.454700</td>\n",
       "      <td>88.548617</td>\n",
       "      <td>40.938038</td>\n",
       "    </tr>\n",
       "    <tr>\n",
       "      <th>std</th>\n",
       "      <td>13.217981</td>\n",
       "      <td>2.552909</td>\n",
       "      <td>7506.511295</td>\n",
       "      <td>404.838249</td>\n",
       "      <td>12.007640</td>\n",
       "    </tr>\n",
       "    <tr>\n",
       "      <th>min</th>\n",
       "      <td>17.000000</td>\n",
       "      <td>1.000000</td>\n",
       "      <td>0.000000</td>\n",
       "      <td>0.000000</td>\n",
       "      <td>1.000000</td>\n",
       "    </tr>\n",
       "    <tr>\n",
       "      <th>25%</th>\n",
       "      <td>28.000000</td>\n",
       "      <td>9.000000</td>\n",
       "      <td>0.000000</td>\n",
       "      <td>0.000000</td>\n",
       "      <td>40.000000</td>\n",
       "    </tr>\n",
       "    <tr>\n",
       "      <th>50%</th>\n",
       "      <td>37.000000</td>\n",
       "      <td>10.000000</td>\n",
       "      <td>0.000000</td>\n",
       "      <td>0.000000</td>\n",
       "      <td>40.000000</td>\n",
       "    </tr>\n",
       "    <tr>\n",
       "      <th>75%</th>\n",
       "      <td>47.000000</td>\n",
       "      <td>13.000000</td>\n",
       "      <td>0.000000</td>\n",
       "      <td>0.000000</td>\n",
       "      <td>45.000000</td>\n",
       "    </tr>\n",
       "    <tr>\n",
       "      <th>max</th>\n",
       "      <td>90.000000</td>\n",
       "      <td>16.000000</td>\n",
       "      <td>99999.000000</td>\n",
       "      <td>4356.000000</td>\n",
       "      <td>99.000000</td>\n",
       "    </tr>\n",
       "  </tbody>\n",
       "</table>\n",
       "</div>"
      ],
      "text/plain": [
       "                age   educationno   capitalgain   capitalloss  hoursperweek\n",
       "count  45221.000000  45221.000000  45221.000000  45221.000000  45221.000000\n",
       "mean      38.548086     10.118463   1101.454700     88.548617     40.938038\n",
       "std       13.217981      2.552909   7506.511295    404.838249     12.007640\n",
       "min       17.000000      1.000000      0.000000      0.000000      1.000000\n",
       "25%       28.000000      9.000000      0.000000      0.000000     40.000000\n",
       "50%       37.000000     10.000000      0.000000      0.000000     40.000000\n",
       "75%       47.000000     13.000000      0.000000      0.000000     45.000000\n",
       "max       90.000000     16.000000  99999.000000   4356.000000     99.000000"
      ]
     },
     "execution_count": 7,
     "metadata": {},
     "output_type": "execute_result"
    }
   ],
   "source": [
    "raw_data.describe()"
   ]
  },
  {
   "cell_type": "code",
   "execution_count": 8,
   "id": "03fd0c59",
   "metadata": {},
   "outputs": [
    {
     "name": "stdout",
     "output_type": "stream",
     "text": [
      "<class 'pandas.core.frame.DataFrame'>\n",
      "RangeIndex: 45221 entries, 0 to 45220\n",
      "Data columns (total 14 columns):\n",
      " #   Column         Non-Null Count  Dtype \n",
      "---  ------         --------------  ----- \n",
      " 0   age            45221 non-null  int64 \n",
      " 1   workclass      45221 non-null  object\n",
      " 2   education      45221 non-null  object\n",
      " 3   educationno    45221 non-null  int64 \n",
      " 4   maritalstatus  45221 non-null  object\n",
      " 5   occupation     45221 non-null  object\n",
      " 6   relationship   45221 non-null  object\n",
      " 7   race           45221 non-null  object\n",
      " 8   sex            45221 non-null  object\n",
      " 9   capitalgain    45221 non-null  int64 \n",
      " 10  capitalloss    45221 non-null  int64 \n",
      " 11  hoursperweek   45221 non-null  int64 \n",
      " 12  native         45221 non-null  object\n",
      " 13  Salary         45221 non-null  object\n",
      "dtypes: int64(5), object(9)\n",
      "memory usage: 4.8+ MB\n"
     ]
    }
   ],
   "source": [
    "raw_data.info()"
   ]
  },
  {
   "cell_type": "markdown",
   "id": "d95edeae",
   "metadata": {},
   "source": [
    "### All the columns data types are correctly identified\n",
    "#### In Data Analysis we will analyze to find out the below stuff\n",
    "##### Missing values\n",
    "* All the Numerical Variables\n",
    "* Distribution of the Numerical Variables\n",
    "* Categorical Variables\n",
    "* Cardinality of Categorical Variables\n",
    "* Outliers\n",
    "* Relationshop between independent and dependent feature (Target)"
   ]
  },
  {
   "cell_type": "markdown",
   "id": "35ac3ad8",
   "metadata": {},
   "source": [
    "### Missing Values"
   ]
  },
  {
   "cell_type": "code",
   "execution_count": 9,
   "id": "a0832aee",
   "metadata": {},
   "outputs": [
    {
     "data": {
      "text/plain": [
       "age              0\n",
       "workclass        0\n",
       "education        0\n",
       "educationno      0\n",
       "maritalstatus    0\n",
       "occupation       0\n",
       "relationship     0\n",
       "race             0\n",
       "sex              0\n",
       "capitalgain      0\n",
       "capitalloss      0\n",
       "hoursperweek     0\n",
       "native           0\n",
       "Salary           0\n",
       "dtype: int64"
      ]
     },
     "execution_count": 9,
     "metadata": {},
     "output_type": "execute_result"
    }
   ],
   "source": [
    "raw_data.isnull().sum()"
   ]
  },
  {
   "cell_type": "markdown",
   "id": "0afa4864",
   "metadata": {},
   "source": [
    "### Duplicated Values\n",
    "print the duplicated rows"
   ]
  },
  {
   "cell_type": "code",
   "execution_count": 10,
   "id": "552d06b8",
   "metadata": {},
   "outputs": [
    {
     "data": {
      "text/html": [
       "<div>\n",
       "<style scoped>\n",
       "    .dataframe tbody tr th:only-of-type {\n",
       "        vertical-align: middle;\n",
       "    }\n",
       "\n",
       "    .dataframe tbody tr th {\n",
       "        vertical-align: top;\n",
       "    }\n",
       "\n",
       "    .dataframe thead th {\n",
       "        text-align: right;\n",
       "    }\n",
       "</style>\n",
       "<table border=\"1\" class=\"dataframe\">\n",
       "  <thead>\n",
       "    <tr style=\"text-align: right;\">\n",
       "      <th></th>\n",
       "      <th>age</th>\n",
       "      <th>workclass</th>\n",
       "      <th>education</th>\n",
       "      <th>educationno</th>\n",
       "      <th>maritalstatus</th>\n",
       "      <th>occupation</th>\n",
       "      <th>relationship</th>\n",
       "      <th>race</th>\n",
       "      <th>sex</th>\n",
       "      <th>capitalgain</th>\n",
       "      <th>capitalloss</th>\n",
       "      <th>hoursperweek</th>\n",
       "      <th>native</th>\n",
       "      <th>Salary</th>\n",
       "    </tr>\n",
       "  </thead>\n",
       "  <tbody>\n",
       "    <tr>\n",
       "      <th>326</th>\n",
       "      <td>33</td>\n",
       "      <td>Private</td>\n",
       "      <td>Bachelors</td>\n",
       "      <td>13</td>\n",
       "      <td>Married-civ-spouse</td>\n",
       "      <td>Exec-managerial</td>\n",
       "      <td>Husband</td>\n",
       "      <td>White</td>\n",
       "      <td>Male</td>\n",
       "      <td>0</td>\n",
       "      <td>0</td>\n",
       "      <td>40</td>\n",
       "      <td>United-States</td>\n",
       "      <td>&gt;50K</td>\n",
       "    </tr>\n",
       "    <tr>\n",
       "      <th>364</th>\n",
       "      <td>27</td>\n",
       "      <td>Private</td>\n",
       "      <td>Bachelors</td>\n",
       "      <td>13</td>\n",
       "      <td>Never-married</td>\n",
       "      <td>Craft-repair</td>\n",
       "      <td>Not-in-family</td>\n",
       "      <td>White</td>\n",
       "      <td>Male</td>\n",
       "      <td>0</td>\n",
       "      <td>0</td>\n",
       "      <td>50</td>\n",
       "      <td>United-States</td>\n",
       "      <td>&lt;=50K</td>\n",
       "    </tr>\n",
       "    <tr>\n",
       "      <th>518</th>\n",
       "      <td>24</td>\n",
       "      <td>Private</td>\n",
       "      <td>HS-grad</td>\n",
       "      <td>9</td>\n",
       "      <td>Never-married</td>\n",
       "      <td>Handlers-cleaners</td>\n",
       "      <td>Unmarried</td>\n",
       "      <td>Black</td>\n",
       "      <td>Female</td>\n",
       "      <td>0</td>\n",
       "      <td>0</td>\n",
       "      <td>40</td>\n",
       "      <td>United-States</td>\n",
       "      <td>&lt;=50K</td>\n",
       "    </tr>\n",
       "    <tr>\n",
       "      <th>525</th>\n",
       "      <td>24</td>\n",
       "      <td>Private</td>\n",
       "      <td>HS-grad</td>\n",
       "      <td>9</td>\n",
       "      <td>Never-married</td>\n",
       "      <td>Craft-repair</td>\n",
       "      <td>Own-child</td>\n",
       "      <td>White</td>\n",
       "      <td>Male</td>\n",
       "      <td>0</td>\n",
       "      <td>0</td>\n",
       "      <td>40</td>\n",
       "      <td>United-States</td>\n",
       "      <td>&lt;=50K</td>\n",
       "    </tr>\n",
       "    <tr>\n",
       "      <th>619</th>\n",
       "      <td>33</td>\n",
       "      <td>Private</td>\n",
       "      <td>Bachelors</td>\n",
       "      <td>13</td>\n",
       "      <td>Married-civ-spouse</td>\n",
       "      <td>Exec-managerial</td>\n",
       "      <td>Husband</td>\n",
       "      <td>White</td>\n",
       "      <td>Male</td>\n",
       "      <td>0</td>\n",
       "      <td>0</td>\n",
       "      <td>40</td>\n",
       "      <td>United-States</td>\n",
       "      <td>&gt;50K</td>\n",
       "    </tr>\n",
       "    <tr>\n",
       "      <th>...</th>\n",
       "      <td>...</td>\n",
       "      <td>...</td>\n",
       "      <td>...</td>\n",
       "      <td>...</td>\n",
       "      <td>...</td>\n",
       "      <td>...</td>\n",
       "      <td>...</td>\n",
       "      <td>...</td>\n",
       "      <td>...</td>\n",
       "      <td>...</td>\n",
       "      <td>...</td>\n",
       "      <td>...</td>\n",
       "      <td>...</td>\n",
       "      <td>...</td>\n",
       "    </tr>\n",
       "    <tr>\n",
       "      <th>45205</th>\n",
       "      <td>22</td>\n",
       "      <td>Private</td>\n",
       "      <td>Some-college</td>\n",
       "      <td>10</td>\n",
       "      <td>Never-married</td>\n",
       "      <td>Craft-repair</td>\n",
       "      <td>Own-child</td>\n",
       "      <td>White</td>\n",
       "      <td>Male</td>\n",
       "      <td>0</td>\n",
       "      <td>0</td>\n",
       "      <td>40</td>\n",
       "      <td>United-States</td>\n",
       "      <td>&lt;=50K</td>\n",
       "    </tr>\n",
       "    <tr>\n",
       "      <th>45210</th>\n",
       "      <td>32</td>\n",
       "      <td>Private</td>\n",
       "      <td>HS-grad</td>\n",
       "      <td>9</td>\n",
       "      <td>Married-civ-spouse</td>\n",
       "      <td>Handlers-cleaners</td>\n",
       "      <td>Husband</td>\n",
       "      <td>White</td>\n",
       "      <td>Male</td>\n",
       "      <td>0</td>\n",
       "      <td>0</td>\n",
       "      <td>40</td>\n",
       "      <td>United-States</td>\n",
       "      <td>&lt;=50K</td>\n",
       "    </tr>\n",
       "    <tr>\n",
       "      <th>45213</th>\n",
       "      <td>31</td>\n",
       "      <td>Private</td>\n",
       "      <td>HS-grad</td>\n",
       "      <td>9</td>\n",
       "      <td>Married-civ-spouse</td>\n",
       "      <td>Craft-repair</td>\n",
       "      <td>Husband</td>\n",
       "      <td>White</td>\n",
       "      <td>Male</td>\n",
       "      <td>0</td>\n",
       "      <td>0</td>\n",
       "      <td>40</td>\n",
       "      <td>United-States</td>\n",
       "      <td>&lt;=50K</td>\n",
       "    </tr>\n",
       "    <tr>\n",
       "      <th>45214</th>\n",
       "      <td>25</td>\n",
       "      <td>Private</td>\n",
       "      <td>HS-grad</td>\n",
       "      <td>9</td>\n",
       "      <td>Never-married</td>\n",
       "      <td>Other-service</td>\n",
       "      <td>Own-child</td>\n",
       "      <td>White</td>\n",
       "      <td>Female</td>\n",
       "      <td>0</td>\n",
       "      <td>0</td>\n",
       "      <td>40</td>\n",
       "      <td>United-States</td>\n",
       "      <td>&lt;=50K</td>\n",
       "    </tr>\n",
       "    <tr>\n",
       "      <th>45218</th>\n",
       "      <td>38</td>\n",
       "      <td>Private</td>\n",
       "      <td>Bachelors</td>\n",
       "      <td>13</td>\n",
       "      <td>Married-civ-spouse</td>\n",
       "      <td>Prof-specialty</td>\n",
       "      <td>Husband</td>\n",
       "      <td>White</td>\n",
       "      <td>Male</td>\n",
       "      <td>0</td>\n",
       "      <td>0</td>\n",
       "      <td>50</td>\n",
       "      <td>United-States</td>\n",
       "      <td>&lt;=50K</td>\n",
       "    </tr>\n",
       "  </tbody>\n",
       "</table>\n",
       "<p>5982 rows × 14 columns</p>\n",
       "</div>"
      ],
      "text/plain": [
       "       age workclass      education  educationno        maritalstatus  \\\n",
       "326     33   Private      Bachelors           13   Married-civ-spouse   \n",
       "364     27   Private      Bachelors           13        Never-married   \n",
       "518     24   Private        HS-grad            9        Never-married   \n",
       "525     24   Private        HS-grad            9        Never-married   \n",
       "619     33   Private      Bachelors           13   Married-civ-spouse   \n",
       "...    ...       ...            ...          ...                  ...   \n",
       "45205   22   Private   Some-college           10        Never-married   \n",
       "45210   32   Private        HS-grad            9   Married-civ-spouse   \n",
       "45213   31   Private        HS-grad            9   Married-civ-spouse   \n",
       "45214   25   Private        HS-grad            9        Never-married   \n",
       "45218   38   Private      Bachelors           13   Married-civ-spouse   \n",
       "\n",
       "               occupation    relationship    race      sex  capitalgain  \\\n",
       "326       Exec-managerial         Husband   White     Male            0   \n",
       "364          Craft-repair   Not-in-family   White     Male            0   \n",
       "518     Handlers-cleaners       Unmarried   Black   Female            0   \n",
       "525          Craft-repair       Own-child   White     Male            0   \n",
       "619       Exec-managerial         Husband   White     Male            0   \n",
       "...                   ...             ...     ...      ...          ...   \n",
       "45205        Craft-repair       Own-child   White     Male            0   \n",
       "45210   Handlers-cleaners         Husband   White     Male            0   \n",
       "45213        Craft-repair         Husband   White     Male            0   \n",
       "45214       Other-service       Own-child   White   Female            0   \n",
       "45218      Prof-specialty         Husband   White     Male            0   \n",
       "\n",
       "       capitalloss  hoursperweek          native  Salary  \n",
       "326              0            40   United-States    >50K  \n",
       "364              0            50   United-States   <=50K  \n",
       "518              0            40   United-States   <=50K  \n",
       "525              0            40   United-States   <=50K  \n",
       "619              0            40   United-States    >50K  \n",
       "...            ...           ...             ...     ...  \n",
       "45205            0            40   United-States   <=50K  \n",
       "45210            0            40   United-States   <=50K  \n",
       "45213            0            40   United-States   <=50K  \n",
       "45214            0            40   United-States   <=50K  \n",
       "45218            0            50   United-States   <=50K  \n",
       "\n",
       "[5982 rows x 14 columns]"
      ]
     },
     "execution_count": 10,
     "metadata": {},
     "output_type": "execute_result"
    }
   ],
   "source": [
    "raw_data[raw_data.duplicated()]"
   ]
  },
  {
   "cell_type": "code",
   "execution_count": 11,
   "id": "6b7cbd09",
   "metadata": {},
   "outputs": [
    {
     "data": {
      "text/plain": [
       "(5982, 14)"
      ]
     },
     "execution_count": 11,
     "metadata": {},
     "output_type": "execute_result"
    }
   ],
   "source": [
    "raw_data[raw_data.duplicated()].shape"
   ]
  },
  {
   "cell_type": "markdown",
   "id": "31f1da50",
   "metadata": {},
   "source": [
    "## Numerical Variables"
   ]
  },
  {
   "cell_type": "code",
   "execution_count": 12,
   "id": "d7712c31",
   "metadata": {},
   "outputs": [
    {
     "name": "stdout",
     "output_type": "stream",
     "text": [
      "Number of numerical variables: 5\n"
     ]
    },
    {
     "data": {
      "text/html": [
       "<div>\n",
       "<style scoped>\n",
       "    .dataframe tbody tr th:only-of-type {\n",
       "        vertical-align: middle;\n",
       "    }\n",
       "\n",
       "    .dataframe tbody tr th {\n",
       "        vertical-align: top;\n",
       "    }\n",
       "\n",
       "    .dataframe thead th {\n",
       "        text-align: right;\n",
       "    }\n",
       "</style>\n",
       "<table border=\"1\" class=\"dataframe\">\n",
       "  <thead>\n",
       "    <tr style=\"text-align: right;\">\n",
       "      <th></th>\n",
       "      <th>age</th>\n",
       "      <th>educationno</th>\n",
       "      <th>capitalgain</th>\n",
       "      <th>capitalloss</th>\n",
       "      <th>hoursperweek</th>\n",
       "    </tr>\n",
       "  </thead>\n",
       "  <tbody>\n",
       "    <tr>\n",
       "      <th>0</th>\n",
       "      <td>39</td>\n",
       "      <td>13</td>\n",
       "      <td>2174</td>\n",
       "      <td>0</td>\n",
       "      <td>40</td>\n",
       "    </tr>\n",
       "    <tr>\n",
       "      <th>1</th>\n",
       "      <td>50</td>\n",
       "      <td>13</td>\n",
       "      <td>0</td>\n",
       "      <td>0</td>\n",
       "      <td>13</td>\n",
       "    </tr>\n",
       "    <tr>\n",
       "      <th>2</th>\n",
       "      <td>38</td>\n",
       "      <td>9</td>\n",
       "      <td>0</td>\n",
       "      <td>0</td>\n",
       "      <td>40</td>\n",
       "    </tr>\n",
       "    <tr>\n",
       "      <th>3</th>\n",
       "      <td>53</td>\n",
       "      <td>7</td>\n",
       "      <td>0</td>\n",
       "      <td>0</td>\n",
       "      <td>40</td>\n",
       "    </tr>\n",
       "    <tr>\n",
       "      <th>4</th>\n",
       "      <td>28</td>\n",
       "      <td>13</td>\n",
       "      <td>0</td>\n",
       "      <td>0</td>\n",
       "      <td>40</td>\n",
       "    </tr>\n",
       "  </tbody>\n",
       "</table>\n",
       "</div>"
      ],
      "text/plain": [
       "   age  educationno  capitalgain  capitalloss  hoursperweek\n",
       "0   39           13         2174            0            40\n",
       "1   50           13            0            0            13\n",
       "2   38            9            0            0            40\n",
       "3   53            7            0            0            40\n",
       "4   28           13            0            0            40"
      ]
     },
     "execution_count": 12,
     "metadata": {},
     "output_type": "execute_result"
    }
   ],
   "source": [
    "# List of Numerical Variables\n",
    "numerical_features=[feature for feature in raw_data.columns if raw_data[feature].dtypes != 'O']\n",
    "\n",
    "print('Number of numerical variables:', len(numerical_features))\n",
    "\n",
    "# Visualize the numerical variables\n",
    "raw_data[numerical_features].head()"
   ]
  },
  {
   "cell_type": "markdown",
   "id": "88ed9559",
   "metadata": {},
   "source": [
    "######  Discrete Feature\n",
    "* Numerical variables are usually of 2 types\n",
    "* Continuous variable and discrete variable"
   ]
  },
  {
   "cell_type": "code",
   "execution_count": 13,
   "id": "238c68ea",
   "metadata": {},
   "outputs": [
    {
     "name": "stdout",
     "output_type": "stream",
     "text": [
      "Discrete Variables Count: 1\n"
     ]
    }
   ],
   "source": [
    "discrete_feature=[feature for feature in numerical_features if len(raw_data[feature].unique())<25]\n",
    "print('Discrete Variables Count: {}'.format(len(discrete_feature)))"
   ]
  },
  {
   "cell_type": "code",
   "execution_count": 14,
   "id": "d27767ac",
   "metadata": {},
   "outputs": [],
   "source": [
    "### Continuous Variable"
   ]
  },
  {
   "cell_type": "code",
   "execution_count": 15,
   "id": "e6339398",
   "metadata": {},
   "outputs": [
    {
     "name": "stdout",
     "output_type": "stream",
     "text": [
      "Continuous Feature Count 4\n"
     ]
    }
   ],
   "source": [
    "continuous_feature=[feature for feature in numerical_features if feature not in discrete_feature]\n",
    "print('Continuous Feature Count {}'.format(len(continuous_feature)))"
   ]
  },
  {
   "cell_type": "markdown",
   "id": "960dc51c",
   "metadata": {},
   "source": [
    "#### Categorical Variables"
   ]
  },
  {
   "cell_type": "code",
   "execution_count": 16,
   "id": "e4cb545e",
   "metadata": {},
   "outputs": [
    {
     "name": "stdout",
     "output_type": "stream",
     "text": [
      "There are 9 categorical variables\n",
      "\n",
      "The categorical variables are :\n",
      "\n",
      " ['workclass', 'education', 'maritalstatus', 'occupation', 'relationship', 'race', 'sex', 'native', 'Salary']\n"
     ]
    }
   ],
   "source": [
    "# find categorical variables\n",
    "\n",
    "categorical = [var for var in raw_data.columns if raw_data[var].dtype=='O']\n",
    "\n",
    "print('There are {} categorical variables\\n'.format(len(categorical)))\n",
    "\n",
    "print('The categorical variables are :\\n\\n', categorical)"
   ]
  },
  {
   "cell_type": "markdown",
   "id": "62dd3143",
   "metadata": {},
   "source": [
    "#### Frequency counts of categorical variables\n",
    "Now, I will check the frequency counts of categorical variables."
   ]
  },
  {
   "cell_type": "code",
   "execution_count": 17,
   "id": "11869fd3",
   "metadata": {
    "scrolled": false
   },
   "outputs": [
    {
     "name": "stdout",
     "output_type": "stream",
     "text": [
      " Private             33306\n",
      " Self-emp-not-inc     3796\n",
      " Local-gov            3100\n",
      " State-gov            1946\n",
      " Self-emp-inc         1646\n",
      " Federal-gov          1406\n",
      " Without-pay            21\n",
      "Name: workclass, dtype: int64\n",
      " HS-grad         14783\n",
      " Some-college     9898\n",
      " Bachelors        7570\n",
      " Masters          2514\n",
      " Assoc-voc        1959\n",
      " 11th             1619\n",
      " Assoc-acdm       1507\n",
      " 10th             1223\n",
      " 7th-8th           823\n",
      " Prof-school       785\n",
      " 9th               676\n",
      " 12th              577\n",
      " Doctorate         544\n",
      " 5th-6th           449\n",
      " 1st-4th           222\n",
      " Preschool          72\n",
      "Name: education, dtype: int64\n",
      " Married-civ-spouse       21055\n",
      " Never-married            14597\n",
      " Divorced                  6297\n",
      " Separated                 1411\n",
      " Widowed                   1277\n",
      " Married-spouse-absent      552\n",
      " Married-AF-spouse           32\n",
      "Name: maritalstatus, dtype: int64\n",
      " Craft-repair         6020\n",
      " Prof-specialty       6008\n",
      " Exec-managerial      5984\n",
      " Adm-clerical         5540\n",
      " Sales                5408\n",
      " Other-service        4808\n",
      " Machine-op-inspct    2969\n",
      " Transport-moving     2316\n",
      " Handlers-cleaners    2046\n",
      " Farming-fishing      1480\n",
      " Tech-support         1420\n",
      " Protective-serv       976\n",
      " Priv-house-serv       232\n",
      " Armed-Forces           14\n",
      "Name: occupation, dtype: int64\n",
      " Husband           18666\n",
      " Not-in-family     11702\n",
      " Own-child          6626\n",
      " Unmarried          4788\n",
      " Wife               2091\n",
      " Other-relative     1348\n",
      "Name: relationship, dtype: int64\n",
      " White                 38902\n",
      " Black                  4228\n",
      " Asian-Pac-Islander     1303\n",
      " Amer-Indian-Eskimo      435\n",
      " Other                   353\n",
      "Name: race, dtype: int64\n",
      " Male      30527\n",
      " Female    14694\n",
      "Name: sex, dtype: int64\n",
      " United-States                 41292\n",
      " Mexico                          903\n",
      " Philippines                     283\n",
      " Germany                         193\n",
      " Puerto-Rico                     175\n",
      " Canada                          163\n",
      " El-Salvador                     147\n",
      " India                           147\n",
      " Cuba                            133\n",
      " England                         119\n",
      " China                           113\n",
      " Jamaica                         103\n",
      " South                           101\n",
      " Italy                           100\n",
      " Dominican-Republic               97\n",
      " Japan                            89\n",
      " Guatemala                        86\n",
      " Vietnam                          83\n",
      " Columbia                         82\n",
      " Poland                           81\n",
      " Haiti                            69\n",
      " Portugal                         62\n",
      " Iran                             56\n",
      " Taiwan                           55\n",
      " Greece                           49\n",
      " Nicaragua                        48\n",
      " Peru                             45\n",
      " Ecuador                          43\n",
      " Ireland                          36\n",
      " France                           36\n",
      " Thailand                         29\n",
      " Hong                             28\n",
      " Cambodia                         26\n",
      " Trinadad&Tobago                  26\n",
      " Yugoslavia                       23\n",
      " Outlying-US(Guam-USVI-etc)       22\n",
      " Laos                             21\n",
      " Scotland                         20\n",
      " Honduras                         19\n",
      " Hungary                          18\n",
      "Name: native, dtype: int64\n",
      " <=50K    34013\n",
      " >50K     11208\n",
      "Name: Salary, dtype: int64\n"
     ]
    }
   ],
   "source": [
    "# view frequency counts of values in categorical variables\n",
    "\n",
    "for var in categorical: \n",
    "    \n",
    "    print(raw_data[var].value_counts())"
   ]
  },
  {
   "cell_type": "code",
   "execution_count": 18,
   "id": "41c569c1",
   "metadata": {
    "scrolled": false
   },
   "outputs": [
    {
     "name": "stdout",
     "output_type": "stream",
     "text": [
      " Private             0.736516\n",
      " Self-emp-not-inc    0.083943\n",
      " Local-gov           0.068552\n",
      " State-gov           0.043033\n",
      " Self-emp-inc        0.036399\n",
      " Federal-gov         0.031092\n",
      " Without-pay         0.000464\n",
      "Name: workclass, dtype: float64\n",
      " HS-grad         0.326906\n",
      " Some-college    0.218881\n",
      " Bachelors       0.167400\n",
      " Masters         0.055594\n",
      " Assoc-voc       0.043321\n",
      " 11th            0.035802\n",
      " Assoc-acdm      0.033325\n",
      " 10th            0.027045\n",
      " 7th-8th         0.018200\n",
      " Prof-school     0.017359\n",
      " 9th             0.014949\n",
      " 12th            0.012760\n",
      " Doctorate       0.012030\n",
      " 5th-6th         0.009929\n",
      " 1st-4th         0.004909\n",
      " Preschool       0.001592\n",
      "Name: education, dtype: float64\n",
      " Married-civ-spouse       0.465602\n",
      " Never-married            0.322793\n",
      " Divorced                 0.139249\n",
      " Separated                0.031202\n",
      " Widowed                  0.028239\n",
      " Married-spouse-absent    0.012207\n",
      " Married-AF-spouse        0.000708\n",
      "Name: maritalstatus, dtype: float64\n",
      " Craft-repair         0.133124\n",
      " Prof-specialty       0.132859\n",
      " Exec-managerial      0.132328\n",
      " Adm-clerical         0.122509\n",
      " Sales                0.119590\n",
      " Other-service        0.106322\n",
      " Machine-op-inspct    0.065655\n",
      " Transport-moving     0.051215\n",
      " Handlers-cleaners    0.045244\n",
      " Farming-fishing      0.032728\n",
      " Tech-support         0.031401\n",
      " Protective-serv      0.021583\n",
      " Priv-house-serv      0.005130\n",
      " Armed-Forces         0.000310\n",
      "Name: occupation, dtype: float64\n",
      " Husband           0.412773\n",
      " Not-in-family     0.258774\n",
      " Own-child         0.146525\n",
      " Unmarried         0.105880\n",
      " Wife              0.046240\n",
      " Other-relative    0.029809\n",
      "Name: relationship, dtype: float64\n",
      " White                 0.860264\n",
      " Black                 0.093496\n",
      " Asian-Pac-Islander    0.028814\n",
      " Amer-Indian-Eskimo    0.009619\n",
      " Other                 0.007806\n",
      "Name: race, dtype: float64\n",
      " Male      0.675062\n",
      " Female    0.324938\n",
      "Name: sex, dtype: float64\n",
      " United-States                 0.913116\n",
      " Mexico                        0.019969\n",
      " Philippines                   0.006258\n",
      " Germany                       0.004268\n",
      " Puerto-Rico                   0.003870\n",
      " Canada                        0.003605\n",
      " El-Salvador                   0.003251\n",
      " India                         0.003251\n",
      " Cuba                          0.002941\n",
      " England                       0.002632\n",
      " China                         0.002499\n",
      " Jamaica                       0.002278\n",
      " South                         0.002233\n",
      " Italy                         0.002211\n",
      " Dominican-Republic            0.002145\n",
      " Japan                         0.001968\n",
      " Guatemala                     0.001902\n",
      " Vietnam                       0.001835\n",
      " Columbia                      0.001813\n",
      " Poland                        0.001791\n",
      " Haiti                         0.001526\n",
      " Portugal                      0.001371\n",
      " Iran                          0.001238\n",
      " Taiwan                        0.001216\n",
      " Greece                        0.001084\n",
      " Nicaragua                     0.001061\n",
      " Peru                          0.000995\n",
      " Ecuador                       0.000951\n",
      " Ireland                       0.000796\n",
      " France                        0.000796\n",
      " Thailand                      0.000641\n",
      " Hong                          0.000619\n",
      " Cambodia                      0.000575\n",
      " Trinadad&Tobago               0.000575\n",
      " Yugoslavia                    0.000509\n",
      " Outlying-US(Guam-USVI-etc)    0.000486\n",
      " Laos                          0.000464\n",
      " Scotland                      0.000442\n",
      " Honduras                      0.000420\n",
      " Hungary                       0.000398\n",
      "Name: native, dtype: float64\n",
      " <=50K    0.752151\n",
      " >50K     0.247849\n",
      "Name: Salary, dtype: float64\n"
     ]
    }
   ],
   "source": [
    "# view frequency distribution of categorical variables\n",
    "import numpy as np\n",
    "for var in categorical: \n",
    "    \n",
    "    print(raw_data[var].value_counts()/np.float(len(raw_data)))"
   ]
  },
  {
   "cell_type": "markdown",
   "id": "84448734",
   "metadata": {},
   "source": [
    "##### Number of labels: cardinality\n",
    "The number of labels within a categorical variable is known as cardinality. A high number of labels within a variable is known as high cardinality. High cardinality may pose some serious problems in the machine learning model. So, I will check for high cardinality."
   ]
  },
  {
   "cell_type": "code",
   "execution_count": 19,
   "id": "4a7524d2",
   "metadata": {},
   "outputs": [
    {
     "name": "stdout",
     "output_type": "stream",
     "text": [
      "workclass  contains  7  labels\n",
      "education  contains  16  labels\n",
      "maritalstatus  contains  7  labels\n",
      "occupation  contains  14  labels\n",
      "relationship  contains  6  labels\n",
      "race  contains  5  labels\n",
      "sex  contains  2  labels\n",
      "native  contains  40  labels\n",
      "Salary  contains  2  labels\n"
     ]
    }
   ],
   "source": [
    "# check for cardinality in categorical variables\n",
    "\n",
    "for var in categorical:\n",
    "    \n",
    "    print(var, ' contains ', len(raw_data[var].unique()), ' labels')"
   ]
  },
  {
   "cell_type": "code",
   "execution_count": 20,
   "id": "3b201fc7",
   "metadata": {},
   "outputs": [
    {
     "data": {
      "text/html": [
       "<div>\n",
       "<style scoped>\n",
       "    .dataframe tbody tr th:only-of-type {\n",
       "        vertical-align: middle;\n",
       "    }\n",
       "\n",
       "    .dataframe tbody tr th {\n",
       "        vertical-align: top;\n",
       "    }\n",
       "\n",
       "    .dataframe thead th {\n",
       "        text-align: right;\n",
       "    }\n",
       "</style>\n",
       "<table border=\"1\" class=\"dataframe\">\n",
       "  <thead>\n",
       "    <tr style=\"text-align: right;\">\n",
       "      <th></th>\n",
       "      <th>age</th>\n",
       "      <th>educationno</th>\n",
       "      <th>capitalgain</th>\n",
       "      <th>capitalloss</th>\n",
       "      <th>hoursperweek</th>\n",
       "    </tr>\n",
       "  </thead>\n",
       "  <tbody>\n",
       "    <tr>\n",
       "      <th>age</th>\n",
       "      <td>1.000000</td>\n",
       "      <td>0.037623</td>\n",
       "      <td>0.079682</td>\n",
       "      <td>0.059426</td>\n",
       "      <td>0.101992</td>\n",
       "    </tr>\n",
       "    <tr>\n",
       "      <th>educationno</th>\n",
       "      <td>0.037623</td>\n",
       "      <td>1.000000</td>\n",
       "      <td>0.126907</td>\n",
       "      <td>0.081741</td>\n",
       "      <td>0.146206</td>\n",
       "    </tr>\n",
       "    <tr>\n",
       "      <th>capitalgain</th>\n",
       "      <td>0.079682</td>\n",
       "      <td>0.126907</td>\n",
       "      <td>1.000000</td>\n",
       "      <td>-0.032095</td>\n",
       "      <td>0.083880</td>\n",
       "    </tr>\n",
       "    <tr>\n",
       "      <th>capitalloss</th>\n",
       "      <td>0.059426</td>\n",
       "      <td>0.081741</td>\n",
       "      <td>-0.032095</td>\n",
       "      <td>1.000000</td>\n",
       "      <td>0.054220</td>\n",
       "    </tr>\n",
       "    <tr>\n",
       "      <th>hoursperweek</th>\n",
       "      <td>0.101992</td>\n",
       "      <td>0.146206</td>\n",
       "      <td>0.083880</td>\n",
       "      <td>0.054220</td>\n",
       "      <td>1.000000</td>\n",
       "    </tr>\n",
       "  </tbody>\n",
       "</table>\n",
       "</div>"
      ],
      "text/plain": [
       "                   age  educationno  capitalgain  capitalloss  hoursperweek\n",
       "age           1.000000     0.037623     0.079682     0.059426      0.101992\n",
       "educationno   0.037623     1.000000     0.126907     0.081741      0.146206\n",
       "capitalgain   0.079682     0.126907     1.000000    -0.032095      0.083880\n",
       "capitalloss   0.059426     0.081741    -0.032095     1.000000      0.054220\n",
       "hoursperweek  0.101992     0.146206     0.083880     0.054220      1.000000"
      ]
     },
     "execution_count": 20,
     "metadata": {},
     "output_type": "execute_result"
    }
   ],
   "source": [
    "raw_data.corr()"
   ]
  },
  {
   "cell_type": "markdown",
   "id": "9c9c08ee",
   "metadata": {},
   "source": [
    "## Exploratory Data Analysis"
   ]
  },
  {
   "cell_type": "code",
   "execution_count": 21,
   "id": "e18d769d",
   "metadata": {},
   "outputs": [
    {
     "data": {
      "text/plain": [
       "(array([0.5, 1.5, 2.5, 3.5, 4.5]),\n",
       " [Text(0.5, 0, 'age'),\n",
       "  Text(1.5, 0, 'educationno'),\n",
       "  Text(2.5, 0, 'capitalgain'),\n",
       "  Text(3.5, 0, 'capitalloss'),\n",
       "  Text(4.5, 0, 'hoursperweek')])"
      ]
     },
     "execution_count": 21,
     "metadata": {},
     "output_type": "execute_result"
    },
    {
     "data": {
      "image/png": "[encoded data removed]",
      "text/plain": [
       "<Figure size 1296x432 with 2 Axes>"
      ]
     },
     "metadata": {
      "needs_background": "light"
     },
     "output_type": "display_data"
    }
   ],
   "source": [
    "import seaborn as sns\n",
    "from matplotlib.colors import ListedColormap\n",
    "import matplotlib.pyplot as plt\n",
    "fig= plt.figure(figsize=(18, 6))\n",
    "sns.heatmap(raw_data.corr(), annot=True);\n",
    "plt.xticks(rotation=45)"
   ]
  },
  {
   "cell_type": "code",
   "execution_count": 22,
   "id": "ceec5d32",
   "metadata": {},
   "outputs": [
    {
     "data": {
      "image/png": "[encoded data removed]",
      "text/plain": [
       "<Figure size 432x288 with 1 Axes>"
      ]
     },
     "metadata": {
      "needs_background": "light"
     },
     "output_type": "display_data"
    },
    {
     "data": {
      "image/png": "[encoded data removed]",
      "text/plain": [
       "<Figure size 432x288 with 1 Axes>"
      ]
     },
     "metadata": {
      "needs_background": "light"
     },
     "output_type": "display_data"
    },
    {
     "data": {
      "image/png": "[encoded data removed]",
      "text/plain": [
       "<Figure size 432x288 with 1 Axes>"
      ]
     },
     "metadata": {
      "needs_background": "light"
     },
     "output_type": "display_data"
    },
    {
     "data": {
      "image/png": "[encoded data removed]",
      "text/plain": [
       "<Figure size 432x288 with 1 Axes>"
      ]
     },
     "metadata": {
      "needs_background": "light"
     },
     "output_type": "display_data"
    }
   ],
   "source": [
    "for feat in continuous_feature:\n",
    "    skew = raw_data[feat].skew()\n",
    "    sns.distplot(raw_data[feat], kde= False, label='Skew = %.3f' %(skew), bins=30)\n",
    "    plt.legend(loc='best')\n",
    "    plt.show()"
   ]
  },
  {
   "cell_type": "markdown",
   "id": "50210927",
   "metadata": {},
   "source": [
    "### Categorical Variables"
   ]
  },
  {
   "cell_type": "code",
   "execution_count": 23,
   "id": "e09e0a78",
   "metadata": {},
   "outputs": [
    {
     "name": "stdout",
     "output_type": "stream",
     "text": [
      "Number of Categorical Features: 9 \n",
      " ['workclass', 'education', 'maritalstatus', 'occupation', 'relationship', 'race', 'sex', 'native', 'Salary']\n"
     ]
    },
    {
     "data": {
      "text/html": [
       "<div>\n",
       "<style scoped>\n",
       "    .dataframe tbody tr th:only-of-type {\n",
       "        vertical-align: middle;\n",
       "    }\n",
       "\n",
       "    .dataframe tbody tr th {\n",
       "        vertical-align: top;\n",
       "    }\n",
       "\n",
       "    .dataframe thead th {\n",
       "        text-align: right;\n",
       "    }\n",
       "</style>\n",
       "<table border=\"1\" class=\"dataframe\">\n",
       "  <thead>\n",
       "    <tr style=\"text-align: right;\">\n",
       "      <th></th>\n",
       "      <th>workclass</th>\n",
       "      <th>education</th>\n",
       "      <th>maritalstatus</th>\n",
       "      <th>occupation</th>\n",
       "      <th>relationship</th>\n",
       "      <th>race</th>\n",
       "      <th>sex</th>\n",
       "      <th>native</th>\n",
       "      <th>Salary</th>\n",
       "    </tr>\n",
       "  </thead>\n",
       "  <tbody>\n",
       "    <tr>\n",
       "      <th>0</th>\n",
       "      <td>State-gov</td>\n",
       "      <td>Bachelors</td>\n",
       "      <td>Never-married</td>\n",
       "      <td>Adm-clerical</td>\n",
       "      <td>Not-in-family</td>\n",
       "      <td>White</td>\n",
       "      <td>Male</td>\n",
       "      <td>United-States</td>\n",
       "      <td>&lt;=50K</td>\n",
       "    </tr>\n",
       "    <tr>\n",
       "      <th>1</th>\n",
       "      <td>Self-emp-not-inc</td>\n",
       "      <td>Bachelors</td>\n",
       "      <td>Married-civ-spouse</td>\n",
       "      <td>Exec-managerial</td>\n",
       "      <td>Husband</td>\n",
       "      <td>White</td>\n",
       "      <td>Male</td>\n",
       "      <td>United-States</td>\n",
       "      <td>&lt;=50K</td>\n",
       "    </tr>\n",
       "    <tr>\n",
       "      <th>2</th>\n",
       "      <td>Private</td>\n",
       "      <td>HS-grad</td>\n",
       "      <td>Divorced</td>\n",
       "      <td>Handlers-cleaners</td>\n",
       "      <td>Not-in-family</td>\n",
       "      <td>White</td>\n",
       "      <td>Male</td>\n",
       "      <td>United-States</td>\n",
       "      <td>&lt;=50K</td>\n",
       "    </tr>\n",
       "    <tr>\n",
       "      <th>3</th>\n",
       "      <td>Private</td>\n",
       "      <td>11th</td>\n",
       "      <td>Married-civ-spouse</td>\n",
       "      <td>Handlers-cleaners</td>\n",
       "      <td>Husband</td>\n",
       "      <td>Black</td>\n",
       "      <td>Male</td>\n",
       "      <td>United-States</td>\n",
       "      <td>&lt;=50K</td>\n",
       "    </tr>\n",
       "    <tr>\n",
       "      <th>4</th>\n",
       "      <td>Private</td>\n",
       "      <td>Bachelors</td>\n",
       "      <td>Married-civ-spouse</td>\n",
       "      <td>Prof-specialty</td>\n",
       "      <td>Wife</td>\n",
       "      <td>Black</td>\n",
       "      <td>Female</td>\n",
       "      <td>Cuba</td>\n",
       "      <td>&lt;=50K</td>\n",
       "    </tr>\n",
       "  </tbody>\n",
       "</table>\n",
       "</div>"
      ],
      "text/plain": [
       "           workclass   education        maritalstatus          occupation  \\\n",
       "0          State-gov   Bachelors        Never-married        Adm-clerical   \n",
       "1   Self-emp-not-inc   Bachelors   Married-civ-spouse     Exec-managerial   \n",
       "2            Private     HS-grad             Divorced   Handlers-cleaners   \n",
       "3            Private        11th   Married-civ-spouse   Handlers-cleaners   \n",
       "4            Private   Bachelors   Married-civ-spouse      Prof-specialty   \n",
       "\n",
       "     relationship    race      sex          native  Salary  \n",
       "0   Not-in-family   White     Male   United-States   <=50K  \n",
       "1         Husband   White     Male   United-States   <=50K  \n",
       "2   Not-in-family   White     Male   United-States   <=50K  \n",
       "3         Husband   Black     Male   United-States   <=50K  \n",
       "4            Wife   Black   Female            Cuba   <=50K  "
      ]
     },
     "execution_count": 23,
     "metadata": {},
     "output_type": "execute_result"
    }
   ],
   "source": [
    "categorical_features=[feature for feature in raw_data.columns if raw_data[feature].dtype=='O']\n",
    "print('Number of Categorical Features:',len(categorical_features), '\\n', categorical_features)\n",
    "raw_data[categorical_features].head()"
   ]
  },
  {
   "cell_type": "code",
   "execution_count": 24,
   "id": "029f1e69",
   "metadata": {},
   "outputs": [
    {
     "name": "stdout",
     "output_type": "stream",
     "text": [
      "7 number of unique categories in feature named workclass\n",
      "16 number of unique categories in feature named education\n",
      "7 number of unique categories in feature named maritalstatus\n",
      "14 number of unique categories in feature named occupation\n",
      "6 number of unique categories in feature named relationship\n",
      "5 number of unique categories in feature named race\n",
      "2 number of unique categories in feature named sex\n",
      "40 number of unique categories in feature named native\n",
      "2 number of unique categories in feature named Salary\n"
     ]
    }
   ],
   "source": [
    "for feature in categorical_features:\n",
    "    print(\"{} number of unique categories in feature named {}\".format(len(raw_data[feature].unique()),feature))"
   ]
  },
  {
   "cell_type": "code",
   "execution_count": 25,
   "id": "22fed0fb",
   "metadata": {
    "scrolled": false
   },
   "outputs": [
    {
     "name": "stdout",
     "output_type": "stream",
     "text": [
      "Feature 'workclass' has 7 unique categories\n",
      " Private             33306\n",
      " Self-emp-not-inc     3796\n",
      " Local-gov            3100\n",
      " State-gov            1946\n",
      " Self-emp-inc         1646\n",
      " Federal-gov          1406\n",
      " Without-pay            21\n",
      "Name: workclass, dtype: int64\n",
      "\n",
      "Feature 'education' has 16 unique categories\n",
      " HS-grad         14783\n",
      " Some-college     9898\n",
      " Bachelors        7570\n",
      " Masters          2514\n",
      " Assoc-voc        1959\n",
      " 11th             1619\n",
      " Assoc-acdm       1507\n",
      " 10th             1223\n",
      " 7th-8th           823\n",
      " Prof-school       785\n",
      " 9th               676\n",
      " 12th              577\n",
      " Doctorate         544\n",
      " 5th-6th           449\n",
      " 1st-4th           222\n",
      " Preschool          72\n",
      "Name: education, dtype: int64\n",
      "\n",
      "Feature 'maritalstatus' has 7 unique categories\n",
      " Married-civ-spouse       21055\n",
      " Never-married            14597\n",
      " Divorced                  6297\n",
      " Separated                 1411\n",
      " Widowed                   1277\n",
      " Married-spouse-absent      552\n",
      " Married-AF-spouse           32\n",
      "Name: maritalstatus, dtype: int64\n",
      "\n",
      "Feature 'occupation' has 14 unique categories\n",
      " Craft-repair         6020\n",
      " Prof-specialty       6008\n",
      " Exec-managerial      5984\n",
      " Adm-clerical         5540\n",
      " Sales                5408\n",
      " Other-service        4808\n",
      " Machine-op-inspct    2969\n",
      " Transport-moving     2316\n",
      " Handlers-cleaners    2046\n",
      " Farming-fishing      1480\n",
      " Tech-support         1420\n",
      " Protective-serv       976\n",
      " Priv-house-serv       232\n",
      " Armed-Forces           14\n",
      "Name: occupation, dtype: int64\n",
      "\n",
      "Feature 'relationship' has 6 unique categories\n",
      " Husband           18666\n",
      " Not-in-family     11702\n",
      " Own-child          6626\n",
      " Unmarried          4788\n",
      " Wife               2091\n",
      " Other-relative     1348\n",
      "Name: relationship, dtype: int64\n",
      "\n",
      "Feature 'race' has 5 unique categories\n",
      " White                 38902\n",
      " Black                  4228\n",
      " Asian-Pac-Islander     1303\n",
      " Amer-Indian-Eskimo      435\n",
      " Other                   353\n",
      "Name: race, dtype: int64\n",
      "\n",
      "Feature 'sex' has 2 unique categories\n",
      " Male      30527\n",
      " Female    14694\n",
      "Name: sex, dtype: int64\n",
      "\n",
      "Feature 'native' has 40 unique categories\n",
      " United-States                 41292\n",
      " Mexico                          903\n",
      " Philippines                     283\n",
      " Germany                         193\n",
      " Puerto-Rico                     175\n",
      " Canada                          163\n",
      " El-Salvador                     147\n",
      " India                           147\n",
      " Cuba                            133\n",
      " England                         119\n",
      " China                           113\n",
      " Jamaica                         103\n",
      " South                           101\n",
      " Italy                           100\n",
      " Dominican-Republic               97\n",
      " Japan                            89\n",
      " Guatemala                        86\n",
      " Vietnam                          83\n",
      " Columbia                         82\n",
      " Poland                           81\n",
      " Haiti                            69\n",
      " Portugal                         62\n",
      " Iran                             56\n",
      " Taiwan                           55\n",
      " Greece                           49\n",
      " Nicaragua                        48\n",
      " Peru                             45\n",
      " Ecuador                          43\n",
      " Ireland                          36\n",
      " France                           36\n",
      " Thailand                         29\n",
      " Hong                             28\n",
      " Cambodia                         26\n",
      " Trinadad&Tobago                  26\n",
      " Yugoslavia                       23\n",
      " Outlying-US(Guam-USVI-etc)       22\n",
      " Laos                             21\n",
      " Scotland                         20\n",
      " Honduras                         19\n",
      " Hungary                          18\n",
      "Name: native, dtype: int64\n",
      "\n",
      "Feature 'Salary' has 2 unique categories\n",
      " <=50K    34013\n",
      " >50K     11208\n",
      "Name: Salary, dtype: int64\n",
      "\n"
     ]
    }
   ],
   "source": [
    "# Decide which categorical variables you want to use in model\n",
    "for feature in raw_data.columns:\n",
    "    if raw_data[feature].dtypes == 'object':# in pandas it is object\n",
    "        unique_cat = len(raw_data[feature].unique())\n",
    "        print(\"Feature '{col_name}' has {unique_cat} unique categories\".format(col_name=feature, unique_cat=unique_cat))\n",
    "        print(raw_data[feature].value_counts())\n",
    "        print()"
   ]
  },
  {
   "cell_type": "code",
   "execution_count": 26,
   "id": "10a1402f",
   "metadata": {},
   "outputs": [
    {
     "data": {
      "image/png": "[encoded data removed]",
      "text/plain": [
       "<Figure size 1440x1080 with 9 Axes>"
      ]
     },
     "metadata": {
      "needs_background": "light"
     },
     "output_type": "display_data"
    }
   ],
   "source": [
    "fig, axs = plt.subplots(3, 3, sharex=False, sharey=False, figsize=(20, 15))\n",
    "\n",
    "counter = 0\n",
    "for cat_column in categorical_features:\n",
    "    value_counts = raw_data[cat_column].value_counts()\n",
    "    \n",
    "    trace_x = counter // 3\n",
    "    trace_y = counter % 3\n",
    "    x_pos = np.arange(0, len(value_counts))\n",
    "    \n",
    "    axs[trace_x, trace_y].bar(x_pos, value_counts.values, tick_label = value_counts.index)\n",
    "    \n",
    "    axs[trace_x, trace_y].set_title(cat_column)\n",
    "    \n",
    "    for tick in axs[trace_x, trace_y].get_xticklabels():\n",
    "        tick.set_rotation(90)\n",
    "    \n",
    "    counter += 1\n",
    "\n",
    "plt.show()"
   ]
  },
  {
   "cell_type": "markdown",
   "id": "2b44eec5",
   "metadata": {},
   "source": [
    "### Bar plot for all categorical variables in the dataset"
   ]
  },
  {
   "cell_type": "code",
   "execution_count": 27,
   "id": "595ca5a5",
   "metadata": {},
   "outputs": [
    {
     "data": {
      "text/plain": [
       "Text(0.5, 1.0, 'Working Class')"
      ]
     },
     "execution_count": 27,
     "metadata": {},
     "output_type": "execute_result"
    },
    {
     "data": {
      "image/png": "[encoded data removed]",
      "text/plain": [
       "<Figure size 432x288 with 1 Axes>"
      ]
     },
     "metadata": {
      "needs_background": "light"
     },
     "output_type": "display_data"
    }
   ],
   "source": [
    "pal = sns.color_palette('rainbow')\n",
    "sns.countplot(x='workclass', data=raw_data, palette = pal, \n",
    "              order=raw_data['workclass'].value_counts().index, );\n",
    "plt.xticks(rotation = 90,fontsize = 12)\n",
    "plt.title('Working Class')"
   ]
  },
  {
   "cell_type": "code",
   "execution_count": 28,
   "id": "0c5df1c4",
   "metadata": {},
   "outputs": [
    {
     "data": {
      "text/plain": [
       "Text(0.5, 1.0, 'Marital Status')"
      ]
     },
     "execution_count": 28,
     "metadata": {},
     "output_type": "execute_result"
    },
    {
     "data": {
      "image/png": "[encoded data removed]",
      "text/plain": [
       "<Figure size 432x288 with 1 Axes>"
      ]
     },
     "metadata": {
      "needs_background": "light"
     },
     "output_type": "display_data"
    }
   ],
   "source": [
    "sns.countplot(x='maritalstatus', data=raw_data, palette = pal, \n",
    "              order=raw_data['maritalstatus'].value_counts().index)\n",
    "plt.xticks(fontsize = 12,rotation = 90)\n",
    "plt.title('Marital Status')"
   ]
  },
  {
   "cell_type": "code",
   "execution_count": 29,
   "id": "52fdcfd8",
   "metadata": {},
   "outputs": [
    {
     "data": {
      "text/plain": [
       "Text(0.5, 1.0, 'Education')"
      ]
     },
     "execution_count": 29,
     "metadata": {},
     "output_type": "execute_result"
    },
    {
     "data": {
      "image/png": "[encoded data removed]",
      "text/plain": [
       "<Figure size 432x288 with 1 Axes>"
      ]
     },
     "metadata": {
      "needs_background": "light"
     },
     "output_type": "display_data"
    }
   ],
   "source": [
    "sns.countplot(x='education', data=raw_data, palette = pal, \n",
    "              order=raw_data['education'].value_counts().index)\n",
    "plt.xticks(fontsize = 12,rotation = 90)\n",
    "plt.title('Education')"
   ]
  },
  {
   "cell_type": "code",
   "execution_count": 30,
   "id": "e6863ee5",
   "metadata": {},
   "outputs": [
    {
     "data": {
      "text/plain": [
       "Text(0.5, 1.0, 'Relationship')"
      ]
     },
     "execution_count": 30,
     "metadata": {},
     "output_type": "execute_result"
    },
    {
     "data": {
      "image/png": "[encoded data removed]",
      "text/plain": [
       "<Figure size 432x288 with 1 Axes>"
      ]
     },
     "metadata": {
      "needs_background": "light"
     },
     "output_type": "display_data"
    }
   ],
   "source": [
    "sns.countplot(x='relationship', data=raw_data, palette = pal, \n",
    "              order=raw_data['relationship'].value_counts().index)\n",
    "plt.xticks(fontsize = 12,rotation = 90)\n",
    "plt.title('Relationship')"
   ]
  },
  {
   "cell_type": "code",
   "execution_count": 31,
   "id": "b47f9aae",
   "metadata": {},
   "outputs": [
    {
     "data": {
      "text/plain": [
       "Text(0.5, 1.0, 'Sex')"
      ]
     },
     "execution_count": 31,
     "metadata": {},
     "output_type": "execute_result"
    },
    {
     "data": {
      "image/png": "[encoded data removed]",
      "text/plain": [
       "<Figure size 432x288 with 1 Axes>"
      ]
     },
     "metadata": {
      "needs_background": "light"
     },
     "output_type": "display_data"
    }
   ],
   "source": [
    "sns.countplot(x='sex', data=raw_data, palette = pal, \n",
    "              order=raw_data['sex'].value_counts().index)\n",
    "plt.xticks(fontsize = 12,rotation=90)\n",
    "plt.title('Sex')"
   ]
  },
  {
   "cell_type": "code",
   "execution_count": 32,
   "id": "8b96e7cc",
   "metadata": {},
   "outputs": [
    {
     "data": {
      "text/plain": [
       "Text(0.5, 1.0, 'Native')"
      ]
     },
     "execution_count": 32,
     "metadata": {},
     "output_type": "execute_result"
    },
    {
     "data": {
      "image/png": "[encoded data removed]",
      "text/plain": [
       "<Figure size 3500x1500 with 1 Axes>"
      ]
     },
     "metadata": {
      "needs_background": "light"
     },
     "output_type": "display_data"
    }
   ],
   "source": [
    "plt.figure(figsize=(14,6),dpi=250)\n",
    "sns.countplot(x='native', data=raw_data, palette = pal, \n",
    "              order=raw_data['native'].value_counts().index)\n",
    "plt.xticks(fontsize = 12,rotation=90)\n",
    "plt.title('Native')"
   ]
  },
  {
   "cell_type": "markdown",
   "id": "b337ea7f",
   "metadata": {},
   "source": [
    "#### Checking for Imbalanced or balanced dataset with regards to the Target\n",
    "Imbalanced data refers to those types of datasets where the target class has an uneven distribution of observations, i.e one class label has a very high number of observations and the other has a very low number of observations.\n",
    "\n",
    "Here, the class “<=50K” is called the majority class, and the much smaller in size “>50K” class is called the minority class."
   ]
  },
  {
   "cell_type": "code",
   "execution_count": 33,
   "id": "5750ada6",
   "metadata": {},
   "outputs": [
    {
     "name": "stdout",
     "output_type": "stream",
     "text": [
      "Percentage of Employees with Salary greater than 50k: 24.78%\n",
      "Percentage of Employees with Salary lesser than 50k: 75.22%\n"
     ]
    }
   ],
   "source": [
    "countlessthanfiftyk = len(raw_data[raw_data.Salary == ' <=50K'])\n",
    "countgreatthanfiftyk = len(raw_data[raw_data.Salary == ' >50K'])\n",
    "print(\"Percentage of Employees with Salary greater than 50k: {:.2f}%\".format((countgreatthanfiftyk / (len(raw_data.Salary))*100)))\n",
    "print(\"Percentage of Employees with Salary lesser than 50k: {:.2f}%\".format((countlessthanfiftyk / (len(raw_data.Salary))*100)))"
   ]
  },
  {
   "cell_type": "code",
   "execution_count": 34,
   "id": "ccf12352",
   "metadata": {},
   "outputs": [
    {
     "data": {
      "text/plain": [
       " <=50K    34013\n",
       " >50K     11208\n",
       "Name: Salary, dtype: int64"
      ]
     },
     "execution_count": 34,
     "metadata": {},
     "output_type": "execute_result"
    }
   ],
   "source": [
    "raw_data.Salary.value_counts()"
   ]
  },
  {
   "cell_type": "code",
   "execution_count": 35,
   "id": "ba3387ee",
   "metadata": {},
   "outputs": [
    {
     "data": {
      "text/plain": [
       "Text(0.5, 1.0, 'Salary')"
      ]
     },
     "execution_count": 35,
     "metadata": {},
     "output_type": "execute_result"
    },
    {
     "data": {
      "image/png": "[encoded data removed]",
      "text/plain": [
       "<Figure size 432x288 with 1 Axes>"
      ]
     },
     "metadata": {
      "needs_background": "light"
     },
     "output_type": "display_data"
    }
   ],
   "source": [
    "pal = sns.color_palette('rainbow')\n",
    "sns.countplot(x='Salary', data=raw_data, palette = pal, \n",
    "              order=raw_data['Salary'].value_counts().index, );\n",
    "plt.xticks(fontsize = 12)\n",
    "plt.title('Salary')"
   ]
  },
  {
   "cell_type": "code",
   "execution_count": null,
   "id": "50ddad4e",
   "metadata": {},
   "outputs": [],
   "source": [
    "plt.figure(figsize = (12,8))\n",
    "plt.pie(raw_data['Salary'].value_counts(),\n",
    "       labels=raw_data.Salary.unique(),\n",
    "       explode = [0.07,0.0],\n",
    "       autopct= '%.2f%%',\n",
    "        colors = [\"#F94567\", \"#FCE78D\"],\n",
    "       shadow= True,\n",
    "       startangle= 190,\n",
    "       textprops = {'size':'large',\n",
    "                   'fontweight':'bold',\n",
    "                    'rotation':'0',\n",
    "                   'color':'black'})\n",
    "plt.legend(loc= 'upper right')\n",
    "plt.title(\"Class Type Distribution Pie Chart\", fontsize = 18, fontweight = 'bold')\n",
    "plt.show()"
   ]
  },
  {
   "cell_type": "markdown",
   "id": "08e576d7",
   "metadata": {},
   "source": [
    "###  Data Visualization\n",
    "Analyzing the relationship of categorical features with respect to the Target feature\n",
    "Bivariate Analysis"
   ]
  },
  {
   "cell_type": "code",
   "execution_count": null,
   "id": "8c68e9d7",
   "metadata": {},
   "outputs": [],
   "source": [
    "#workclass and Salary\n",
    "j_df = pd.DataFrame()\n",
    "\n",
    "j_df[' <=50K'] = raw_data[raw_data['Salary'] == ' <=50K']['workclass'].value_counts()\n",
    "j_df[' >50K'] = raw_data[raw_data['Salary'] == ' >50K']['workclass'].value_counts()\n",
    "j_df.plot.bar(title = 'Workclass and Salary',figsize=(14,6))\n",
    "j_df.plot(figsize=(14,6))"
   ]
  },
  {
   "cell_type": "code",
   "execution_count": null,
   "id": "a3579354",
   "metadata": {},
   "outputs": [],
   "source": [
    "fig= plt.figure(figsize=(18, 6))\n",
    "sns.heatmap(pd.crosstab(index=raw_data['workclass'], columns=raw_data['Salary']), annot=True, \n",
    "            fmt='g')"
   ]
  },
  {
   "cell_type": "code",
   "execution_count": null,
   "id": "ba469411",
   "metadata": {},
   "outputs": [],
   "source": [
    "#Education and Salary\n",
    "j_df = pd.DataFrame()\n",
    "\n",
    "j_df[' <=50K'] = raw_data[raw_data['Salary'] == ' <=50K']['education'].value_counts()\n",
    "j_df[' >50K'] = raw_data[raw_data['Salary'] == ' >50K']['education'].value_counts()\n",
    "j_df.plot.bar(title = 'Education and Salary',figsize=(14,6))\n",
    "j_df.plot(figsize=(14,6))"
   ]
  },
  {
   "cell_type": "code",
   "execution_count": null,
   "id": "aeab755e",
   "metadata": {},
   "outputs": [],
   "source": [
    "fig= plt.figure(figsize=(18, 6))\n",
    "sns.heatmap(pd.crosstab(index=raw_data['education'], columns=raw_data['Salary']), annot=True, \n",
    "            fmt='g')"
   ]
  },
  {
   "cell_type": "code",
   "execution_count": null,
   "id": "23bca7e0",
   "metadata": {},
   "outputs": [],
   "source": [
    "#maritalstatus and Salary\n",
    "j_df = pd.DataFrame()\n",
    "\n",
    "j_df[' <=50K'] = raw_data[raw_data['Salary'] == ' <=50K']['maritalstatus'].value_counts()\n",
    "j_df[' >50K'] = raw_data[raw_data['Salary'] == ' >50K']['maritalstatus'].value_counts()\n",
    "j_df.plot.bar(title = 'Marital Status and Salary',figsize=(14,6))\n",
    "j_df.plot(figsize=(14,6))"
   ]
  },
  {
   "cell_type": "code",
   "execution_count": null,
   "id": "c1d6849e",
   "metadata": {},
   "outputs": [],
   "source": [
    "fig= plt.figure(figsize=(18, 4))\n",
    "sns.heatmap(pd.crosstab(index=raw_data['maritalstatus'], columns=raw_data['Salary']), annot=True, \n",
    "            fmt='g')"
   ]
  },
  {
   "cell_type": "code",
   "execution_count": null,
   "id": "3967dd52",
   "metadata": {},
   "outputs": [],
   "source": [
    "#occupation and Salary\n",
    "j_df = pd.DataFrame()\n",
    "\n",
    "j_df[' <=50K'] = raw_data[raw_data['Salary'] == ' <=50K']['occupation'].value_counts()\n",
    "j_df[' >50K'] = raw_data[raw_data['Salary'] == ' >50K']['occupation'].value_counts()\n",
    "j_df.plot.bar(title = 'Occupation and Salary',figsize=(14,6))\n",
    "j_df.plot(figsize=(14,6))"
   ]
  },
  {
   "cell_type": "code",
   "execution_count": null,
   "id": "49fd2718",
   "metadata": {},
   "outputs": [],
   "source": [
    "fig= plt.figure(figsize=(18, 6))\n",
    "sns.heatmap(pd.crosstab(index=raw_data['occupation'], columns=raw_data['Salary']), annot=True, \n",
    "            fmt='g')"
   ]
  },
  {
   "cell_type": "code",
   "execution_count": null,
   "id": "0dfb7b78",
   "metadata": {},
   "outputs": [],
   "source": [
    "#relationship and Salary\n",
    "j_df = pd.DataFrame()\n",
    "\n",
    "j_df[' <=50K'] = raw_data[raw_data['Salary'] == ' <=50K']['relationship'].value_counts()\n",
    "j_df[' >50K'] = raw_data[raw_data['Salary'] == ' >50K']['relationship'].value_counts()\n",
    "j_df.plot.bar(title = 'Relationship and Salary',figsize=(14,6))\n",
    "j_df.plot(figsize=(14,6))"
   ]
  },
  {
   "cell_type": "code",
   "execution_count": null,
   "id": "bb63cd53",
   "metadata": {},
   "outputs": [],
   "source": [
    "fig= plt.figure(figsize=(18, 4))\n",
    "sns.heatmap(pd.crosstab(index=raw_data['relationship'], columns=raw_data['Salary']), annot=True, \n",
    "            fmt='g')"
   ]
  },
  {
   "cell_type": "code",
   "execution_count": null,
   "id": "103162d2",
   "metadata": {},
   "outputs": [],
   "source": [
    "#Race and Salary\n",
    "j_df = pd.DataFrame()\n",
    "\n",
    "j_df[' <=50K'] = raw_data[raw_data['Salary'] == ' <=50K']['race'].value_counts()\n",
    "j_df[' >50K'] = raw_data[raw_data['Salary'] == ' >50K']['race'].value_counts()\n",
    "j_df.plot.bar(title = 'Race and Salary',figsize=(14,6))\n",
    "j_df.plot(figsize=(14,6))"
   ]
  },
  {
   "cell_type": "code",
   "execution_count": null,
   "id": "6c6882db",
   "metadata": {},
   "outputs": [],
   "source": [
    "fig= plt.figure(figsize=(18, 4))\n",
    "sns.heatmap(pd.crosstab(index=raw_data['race'], columns=raw_data['Salary']), annot=True, \n",
    "            fmt='g')"
   ]
  },
  {
   "cell_type": "code",
   "execution_count": null,
   "id": "c66aaea1",
   "metadata": {},
   "outputs": [],
   "source": [
    "#Sex and Salary\n",
    "j_df = pd.DataFrame()\n",
    "\n",
    "j_df[' <=50K'] = raw_data[raw_data['Salary'] == ' <=50K']['sex'].value_counts()\n",
    "j_df[' >50K'] = raw_data[raw_data['Salary'] == ' >50K']['sex'].value_counts()\n",
    "j_df.plot.bar(title = 'Race and Salary',figsize=(14,6))\n",
    "j_df.plot(figsize=(14,6))"
   ]
  },
  {
   "cell_type": "code",
   "execution_count": null,
   "id": "5e01c8d2",
   "metadata": {},
   "outputs": [],
   "source": [
    "fig= plt.figure(figsize=(18, 4))\n",
    "sns.heatmap(pd.crosstab(index=raw_data['sex'], columns=raw_data['Salary']), annot=True, \n",
    "            fmt='g')"
   ]
  },
  {
   "cell_type": "code",
   "execution_count": null,
   "id": "cb0df2cd",
   "metadata": {},
   "outputs": [],
   "source": [
    "#Native and Salary\n",
    "j_df = pd.DataFrame()\n",
    "\n",
    "j_df[' <=50K'] = raw_data[raw_data['Salary'] == ' <=50K']['native'].value_counts()\n",
    "j_df[' >50K'] = raw_data[raw_data['Salary'] == ' >50K']['native'].value_counts()\n",
    "j_df.plot.bar(title = 'Race and Salary',figsize=(14,6))\n",
    "j_df.plot(figsize=(14,6))"
   ]
  },
  {
   "cell_type": "code",
   "execution_count": null,
   "id": "762360ed",
   "metadata": {},
   "outputs": [],
   "source": [
    "fig= plt.figure(figsize=(12, 20))\n",
    "sns.heatmap(pd.crosstab(index=raw_data['native'], columns=raw_data['Salary']), annot=True, \n",
    "            fmt='g')"
   ]
  },
  {
   "cell_type": "markdown",
   "id": "7514cf95",
   "metadata": {},
   "source": [
    "* Regarding the diagrams we can tell that according to our dataset:\n",
    "\n",
    "* Employees living in 'United States' and 'White' 'Male' and 'Husbands' are majority in getting salary more than 50k"
   ]
  },
  {
   "cell_type": "markdown",
   "id": "5d1594e8",
   "metadata": {},
   "source": [
    "### Analyzing Relation by plotting Continuous features with the Target Feature"
   ]
  },
  {
   "cell_type": "code",
   "execution_count": null,
   "id": "45097bd8",
   "metadata": {},
   "outputs": [],
   "source": [
    "pd.crosstab(raw_data.age,raw_data.Salary).plot(kind=\"bar\",figsize=(20,6))\n",
    "plt.title('Term Deposit accepted Frequency for Ages', fontsize = 16)\n",
    "plt.xticks(fontsize = 12)\n",
    "plt.xlabel('Age', fontsize = 15)\n",
    "plt.ylabel('Frequency')\n",
    "plt.show()"
   ]
  },
  {
   "cell_type": "code",
   "execution_count": null,
   "id": "a01aa4a2",
   "metadata": {},
   "outputs": [],
   "source": [
    "plt.scatter(x=raw_data.age[raw_data.Salary== ' <=50K'], y=raw_data.hoursperweek[(raw_data.Salary== ' <=50K')], c=\"red\")\n",
    "plt.scatter(x=raw_data.age[raw_data.Salary== ' >50K'], y=raw_data.hoursperweek[(raw_data.Salary== ' >50K')])\n",
    "plt.legend([\"More than 50k\", \"Less than 50k Salary\"])\n",
    "plt.xlabel(\"Age\")\n",
    "plt.ylabel(\"Working hours/week\")\n",
    "plt.show()"
   ]
  },
  {
   "cell_type": "markdown",
   "id": "e71a9d6e",
   "metadata": {},
   "source": [
    "### Visualize the Salary and Employee rate by age"
   ]
  },
  {
   "cell_type": "code",
   "execution_count": null,
   "id": "ec3eee6e",
   "metadata": {},
   "outputs": [],
   "source": [
    "raw_data.age.value_counts()"
   ]
  },
  {
   "cell_type": "markdown",
   "id": "955ccbad",
   "metadata": {},
   "source": [
    "### Visualize the Salary for >50k by working hours per week"
   ]
  },
  {
   "cell_type": "code",
   "execution_count": null,
   "id": "32621cd3",
   "metadata": {},
   "outputs": [],
   "source": [
    "raw_data.hoursperweek.describe()"
   ]
  },
  {
   "cell_type": "markdown",
   "id": "fa22eb6e",
   "metadata": {},
   "source": [
    "### Visualize the Salary rate by Workclass"
   ]
  },
  {
   "cell_type": "code",
   "execution_count": null,
   "id": "d95f976c",
   "metadata": {},
   "outputs": [],
   "source": [
    "count_job_response_pct = pd.crosstab(raw_data['Salary'],raw_data['workclass']).apply(lambda x: x/x.sum() * 100)\n",
    "count_job_response_pct"
   ]
  },
  {
   "cell_type": "code",
   "execution_count": null,
   "id": "84cd70db",
   "metadata": {},
   "outputs": [],
   "source": [
    "count_job_response_pct = count_job_response_pct.transpose()\n",
    "count_job_response_pct"
   ]
  },
  {
   "cell_type": "markdown",
   "id": "693ed256",
   "metadata": {},
   "source": [
    "### visualize the Salary rate by Education"
   ]
  },
  {
   "cell_type": "code",
   "execution_count": null,
   "id": "4be2c1c1",
   "metadata": {},
   "outputs": [],
   "source": [
    "count_job_response_pct = pd.crosstab(raw_data['Salary'],raw_data['education']).apply(lambda x: x/x.sum() * 100)\n",
    "count_job_response_pct"
   ]
  },
  {
   "cell_type": "code",
   "execution_count": null,
   "id": "09d14b9e",
   "metadata": {},
   "outputs": [],
   "source": [
    "count_job_response_pct = count_job_response_pct.transpose()\n",
    "count_job_response_pct"
   ]
  },
  {
   "cell_type": "markdown",
   "id": "6fd59b42",
   "metadata": {},
   "source": [
    "### Clean the dataset\n",
    "#### Label Encoding Technique"
   ]
  },
  {
   "cell_type": "code",
   "execution_count": null,
   "id": "39b67a75",
   "metadata": {},
   "outputs": [],
   "source": [
    "from sklearn import preprocessing\n",
    " \n",
    "# label_encoder object knows how to understand word labels.\n",
    "df= raw_data.copy()\n",
    "label_encoder = preprocessing.LabelEncoder()\n",
    "df[\"education\"]=label_encoder.fit_transform(df[\"education\"])\n",
    "df[\"workclass\"]=label_encoder.fit_transform(df[\"workclass\"])\n",
    "df[\"maritalstatus\"]=label_encoder.fit_transform(df[\"maritalstatus\"])\n",
    "df[\"sex\"]=label_encoder.fit_transform(df[\"sex\"])\n",
    "df[\"race\"]=label_encoder.fit_transform(df[\"race\"])\n",
    "df[\"occupation\"]=label_encoder.fit_transform(df[\"occupation\"])\n",
    "df[\"relationship\"]=label_encoder.fit_transform(df[\"relationship\"])\n",
    "df[\"native\"]=label_encoder.fit_transform(df[\"native\"])\n",
    "df.head(10)"
   ]
  },
  {
   "cell_type": "markdown",
   "id": "6cc14eca",
   "metadata": {},
   "source": [
    "##### Converting string value into binary classes such as if \">50K\" than classify it as '1' else 'O'"
   ]
  },
  {
   "cell_type": "code",
   "execution_count": null,
   "id": "10041310",
   "metadata": {},
   "outputs": [],
   "source": [
    "df['Salary'] = raw_data.Salary\n",
    "df['Salary'] = np.where(df['Salary'].str.contains(\" >50K\"), 1, 0)\n",
    "df.head()"
   ]
  },
  {
   "cell_type": "markdown",
   "id": "75e5637e",
   "metadata": {},
   "source": [
    "### Applying Standard Scaler\n",
    "* For each feature, the Standard Scaler scales the values such that the mean is 0 and the standard deviation is 1(or the variance).\n",
    "* x_scaled = x – mean/std_dev\n",
    "* However, Standard Scaler assumes that the distribution of the variable is normal. Thus, in case, the variables are not normally distributed, we either choose a different scaler or first, convert the variables to a normal distribution and then apply this scaler\n"
   ]
  },
  {
   "cell_type": "code",
   "execution_count": null,
   "id": "338f0e04",
   "metadata": {},
   "outputs": [],
   "source": [
    "df[continuous_feature]"
   ]
  },
  {
   "cell_type": "code",
   "execution_count": null,
   "id": "85376af7",
   "metadata": {},
   "outputs": [],
   "source": [
    "from sklearn.preprocessing import StandardScaler\n",
    "scaler = StandardScaler()\n",
    "features = df[continuous_feature]\n",
    "df[continuous_feature] = scaler.fit_transform(features.values)\n",
    "df.head()"
   ]
  },
  {
   "cell_type": "markdown",
   "id": "ebdeb3f0",
   "metadata": {},
   "source": [
    "### Test Train Split With Imbalanced Dataset"
   ]
  },
  {
   "cell_type": "code",
   "execution_count": null,
   "id": "67429e77",
   "metadata": {},
   "outputs": [],
   "source": [
    "x = df.drop('Salary',axis=1)\n",
    "y = df['Salary']"
   ]
  },
  {
   "cell_type": "code",
   "execution_count": null,
   "id": "08d09682",
   "metadata": {},
   "outputs": [],
   "source": [
    "y.unique()"
   ]
  },
  {
   "cell_type": "code",
   "execution_count": null,
   "id": "51ede207",
   "metadata": {},
   "outputs": [],
   "source": [
    "from dataprep.eda import plot, create_report\n",
    "import scipy.stats as stat\n",
    "from collections import Counter\n",
    "import dataprep\n",
    "from sklearn.svm import SVC\n",
    "from tqdm.notebook import tqdm_notebook\n",
    "from imblearn.over_sampling import SMOTE,  ADASYN\n",
    "from imblearn.combine import SMOTETomek, SMOTEENN\n",
    "from sklearn.metrics import classification_report,confusion_matrix,accuracy_score\n",
    "from statsmodels.stats.outliers_influence import variance_inflation_factor\n",
    "from dataprep.eda import plot, plot_correlation, plot_missing, create_report\n",
    "from sklearn.model_selection import KFold , GridSearchCV, train_test_split, StratifiedKFold, RandomizedSearchCV\n",
    "from sklearn.metrics import confusion_matrix as cm, accuracy_score as ac, classification_report as report,\\\n",
    "roc_curve, roc_auc_score , recall_score , precision_score, f1_score"
   ]
  },
  {
   "cell_type": "code",
   "execution_count": null,
   "id": "a6a3b66e",
   "metadata": {},
   "outputs": [],
   "source": [
    "def print_score(clf, X_train, y_train, X_test, y_test, train=True):\n",
    "    if train:\n",
    "        pred = clf.predict(X_train)\n",
    "        clf_report = pd.DataFrame(classification_report(y_train, pred, output_dict=True))\n",
    "        print(\"Train Result:\\n================================================\")\n",
    "        print(f\"Accuracy Score: {accuracy_score(y_train, pred) * 100:.2f}%\")\n",
    "        print(\"_______________________________________________\")\n",
    "        print(f\"CLASSIFICATION REPORT:\\n{clf_report}\")\n",
    "        print(\"_______________________________________________\")\n",
    "        print(f\"Confusion Matrix: \\n {confusion_matrix(y_train, pred)}\\n\")\n",
    "        \n",
    "    elif train==False:\n",
    "        pred = clf.predict(X_test)\n",
    "        clf_report = pd.DataFrame(classification_report(y_test, pred, output_dict=True))\n",
    "        print(\"Test Result:\\n================================================\")        \n",
    "        print(f\"Accuracy Score: {accuracy_score(y_test, pred) * 100:.2f}%\")\n",
    "        print(\"_______________________________________________\")\n",
    "        print(f\"CLASSIFICATION REPORT:\\n{clf_report}\")\n",
    "        print(\"_______________________________________________\")\n",
    "        print(f\"Confusion Matrix: \\n {confusion_matrix(y_test, pred)}\\n\")"
   ]
  },
  {
   "cell_type": "code",
   "execution_count": null,
   "id": "744aabbe",
   "metadata": {},
   "outputs": [],
   "source": [
    "x_train,x_test,y_train,y_test = train_test_split(x,y,test_size=0.3,random_state=1,stratify=y)"
   ]
  },
  {
   "cell_type": "code",
   "execution_count": null,
   "id": "0b9d63ad",
   "metadata": {},
   "outputs": [],
   "source": [
    "# summarize train and test composition\n",
    "counter_train = Counter(y_train)\n",
    "counter_test = Counter(y_test)\n",
    "print('Training Data',counter_train,'Testing Data',counter_test)"
   ]
  },
  {
   "cell_type": "code",
   "execution_count": null,
   "id": "9089d660",
   "metadata": {},
   "outputs": [],
   "source": [
    "print(\"Shape of X_train: \",x_train.shape)\n",
    "print(\"Shape of X_test: \", x_test.shape)\n",
    "print(\"Shape of y_train: \",y_train.shape)\n",
    "print(\"Shape of y_test\",y_test.shape)"
   ]
  },
  {
   "cell_type": "markdown",
   "id": "7b709fb7",
   "metadata": {},
   "source": [
    "### Run SVM with default hyperparameters"
   ]
  },
  {
   "cell_type": "code",
   "execution_count": null,
   "id": "1a081ebb",
   "metadata": {},
   "outputs": [],
   "source": [
    "rf_clf = SVC()\n",
    "rf_clf.fit(x_train, y_train)\n",
    "\n",
    "print_score(rf_clf, x_train, y_train, x_test, y_test, train=True)\n",
    "print_score(rf_clf, x_train, y_train, x_test, y_test, train=False)"
   ]
  },
  {
   "cell_type": "markdown",
   "id": "faaa8923",
   "metadata": {},
   "source": [
    "##### Observation:\n",
    "In both the condition, due to imbalanced dataset our results are getting biased towards the majority. The model is correctly classifying all the majority classes yet fails to classify the minority classes. Hence, we need to use some kind of oversampling techniques to balance the dataset.\n",
    "#### As Support Vector Classifier is not scoring better result we are going to use different hyperparameter tuning to improve our scores for final model building"
   ]
  },
  {
   "cell_type": "markdown",
   "id": "ce105c98",
   "metadata": {},
   "source": [
    "###  Handling imbalance data using SMOTE based techniques"
   ]
  },
  {
   "cell_type": "code",
   "execution_count": null,
   "id": "de90d1a5",
   "metadata": {},
   "outputs": [],
   "source": [
    "x = df.drop(['Salary'], axis=1)\n",
    "y = df['Salary']\n",
    "\n",
    "x_train, x_test, y_train, y_test = train_test_split( x, y, test_size=0.30, random_state=0,stratify=y)"
   ]
  },
  {
   "cell_type": "code",
   "execution_count": null,
   "id": "e0bf5b63",
   "metadata": {},
   "outputs": [],
   "source": [
    "print(\"Shape of X_train: \",x_train.shape)\n",
    "print(\"Shape of X_test: \", x_test.shape)\n",
    "print(\"Shape of y_train: \",y_train.shape)\n",
    "print(\"Shape of y_test\",y_test.shape)"
   ]
  },
  {
   "cell_type": "markdown",
   "id": "cb099fdb",
   "metadata": {},
   "source": [
    "#### SMOTE Oversampling technique"
   ]
  },
  {
   "cell_type": "code",
   "execution_count": null,
   "id": "a46a80e0",
   "metadata": {},
   "outputs": [],
   "source": [
    "counter = Counter(y_train)\n",
    "print('Before',counter)\n",
    "# oversampling the train dataset using SMOTE\n",
    "smt = SMOTE()\n",
    "x_train_sm, y_train_sm = smt.fit_resample(x_train, y_train)\n",
    "\n",
    "counter = Counter(y_train_sm)\n",
    "print('After',counter)"
   ]
  },
  {
   "cell_type": "markdown",
   "id": "f6b21a65",
   "metadata": {},
   "source": [
    "#### ADASYN: Adaptive Synthetic Sampling Approach"
   ]
  },
  {
   "cell_type": "code",
   "execution_count": null,
   "id": "d67f64db",
   "metadata": {},
   "outputs": [],
   "source": [
    "counter = Counter(y_train)\n",
    "print('Before',counter)\n",
    "# oversampling the train dataset using ADASYN\n",
    "ada = ADASYN(random_state=130)\n",
    "x_train_ada, y_train_ada = ada.fit_resample(x_train, y_train)\n",
    "\n",
    "counter = Counter(y_train_ada)\n",
    "print('After',counter)"
   ]
  },
  {
   "cell_type": "markdown",
   "id": "6917548e",
   "metadata": {},
   "source": [
    "### Hybridization: SMOTE + Tomek Links"
   ]
  },
  {
   "cell_type": "code",
   "execution_count": null,
   "id": "82b44728",
   "metadata": {},
   "outputs": [],
   "source": [
    "counter = Counter(y_train)\n",
    "print('Before',counter)\n",
    "# oversampling the train dataset using SMOTE + Tomek\n",
    "smtom = SMOTETomek(random_state=139)\n",
    "x_train_smtom, y_train_smtom = smtom.fit_resample(x_train, y_train)\n",
    "\n",
    "counter = Counter(y_train_smtom)\n",
    "print('After',counter)"
   ]
  },
  {
   "cell_type": "markdown",
   "id": "62dd49ca",
   "metadata": {},
   "source": [
    "### Hybridization: SMOTE + ENN"
   ]
  },
  {
   "cell_type": "code",
   "execution_count": null,
   "id": "8bd48917",
   "metadata": {},
   "outputs": [],
   "source": [
    "counter = Counter(y_train)\n",
    "print('Before',counter)\n",
    "#oversampling the train dataset using SMOTE + ENN\n",
    "smenn = SMOTEENN()\n",
    "x_train_smenn, y_train_smenn = smenn.fit_resample(x_train, y_train)\n",
    "\n",
    "counter = Counter(y_train_smenn)\n",
    "print('After',counter)"
   ]
  },
  {
   "cell_type": "markdown",
   "id": "dcffd924",
   "metadata": {},
   "source": [
    "### Performance Analysis after Resampling"
   ]
  },
  {
   "cell_type": "code",
   "execution_count": null,
   "id": "dcea486c",
   "metadata": {},
   "outputs": [],
   "source": [
    "sampled_data = {\n",
    "    'ACTUAL':[x_train, y_train],\n",
    "    'SMOTE':[x_train_sm, y_train_sm],\n",
    "    'ADASYN':[x_train_ada, y_train_ada],\n",
    "    'SMOTE_TOMEK':[x_train_smtom, y_train_smtom],\n",
    "    'SMOTE_ENN':[x_train_smenn, y_train_smenn]\n",
    "}"
   ]
  },
  {
   "cell_type": "code",
   "execution_count": null,
   "id": "44d3bfd6",
   "metadata": {},
   "outputs": [],
   "source": [
    "def test_eval(clf_model, X_test, y_test, algo=None, sampling=None):\n",
    "    # Test set prediction\n",
    "    y_prob=clf_model.predict_proba(X_test)\n",
    "    y_pred=clf_model.predict(X_test)\n",
    "\n",
    "    print('Confusion Matrix')\n",
    "    print('='*60)\n",
    "    #plot_confusion_matrix(clf_model, X_test, y_test)  \n",
    "    #plt.show() \n",
    "    print(confusion_matrix(y_test,y_pred),\"\\n\")\n",
    "    print('Classification Report')\n",
    "    print('='*60)\n",
    "    print(classification_report(y_test,y_pred),\"\\n\")\n",
    "    print('AUC-ROC')\n",
    "    print('='*60)\n",
    "    print(roc_auc_score(y_test, y_prob[:,1]))\n",
    "    \n",
    "    #x = roc_auc_score(y_test, y_prob[:,1])\n",
    "    f1 = f1_score(y_test, y_pred, average='binary')\n",
    "    recall = recall_score(y_test, y_pred, average='binary')\n",
    "    precision = precision_score(y_test, y_pred, average='binary')\n",
    "          \n",
    "    \n",
    "    return algo,precision,recall,f1,sampling"
   ]
  },
  {
   "cell_type": "code",
   "execution_count": null,
   "id": "531b0899",
   "metadata": {},
   "outputs": [],
   "source": [
    "model_params = {\n",
    "\n",
    "    'SVC' : {\n",
    "        'model' : SVC(probability=True),\n",
    "        'params' :[ {'C':[1], 'kernel':['linear']}]\n",
    "    }\n",
    "}"
   ]
  },
  {
   "cell_type": "code",
   "execution_count": null,
   "id": "56019da4",
   "metadata": {},
   "outputs": [],
   "source": [
    "cv = StratifiedKFold(n_splits=5, random_state=100, shuffle=True)\n",
    "output = []\n",
    "for model , model_hp in tqdm_notebook(model_params.items(), desc = 'Loop 1'):\n",
    "    for resam , data in tqdm_notebook(sampled_data.items(), desc = 'Loop 2'):\n",
    "        clf = RandomizedSearchCV(model_hp['model'], model_hp['params'],cv = cv, scoring='accuracy', n_jobs=-1 )\n",
    "        clf.fit(data[0], data[1])\n",
    "        clf_best = clf.best_estimator_\n",
    "        print('x'*60)\n",
    "        print(model+' with ' + resam)\n",
    "        print('='*60)\n",
    "        output.append(test_eval(clf_best, x_test, y_test, model, resam))"
   ]
  },
  {
   "cell_type": "code",
   "execution_count": null,
   "id": "eaebc0db",
   "metadata": {},
   "outputs": [],
   "source": [
    "from tqdm.notebook import tqdm_notebook\n",
    "import time\n",
    "for i in tqdm_notebook(range(10), desc = 'Progress using tqdm_notebook()'):\n",
    "    time.sleep(0.5)"
   ]
  },
  {
   "cell_type": "markdown",
   "id": "1ab8f352",
   "metadata": {},
   "source": [
    "#### As the results can be compared, the Hybridization technique using SMOTE_Tomek gave the best results we are going to use it further i.e the AUC score"
   ]
  },
  {
   "cell_type": "code",
   "execution_count": null,
   "id": "425dcebb",
   "metadata": {},
   "outputs": [],
   "source": [
    "counter = Counter(y_train)\n",
    "print('Before',counter)\n",
    "# oversampling the train dataset using SMOTE + Tomek\n",
    "smtom = SMOTETomek(random_state=139)\n",
    "x_train_smtom, y_train_smtom = smtom.fit_resample(x_train, y_train)\n",
    "\n",
    "counter = Counter(y_train_smtom)\n",
    "print('After',counter)"
   ]
  },
  {
   "cell_type": "code",
   "execution_count": null,
   "id": "a0ffbd59",
   "metadata": {},
   "outputs": [],
   "source": [
    "x_train,x_test,y_train,y_test = train_test_split(x_train_smtom,y_train_smtom,test_size=0.3,random_state=1, stratify=y_train_smtom)\n",
    "\n",
    "counter = Counter(y_train_smtom)\n",
    "print('Before',counter)\n",
    "counter = Counter(y_train)\n",
    "print('After',counter)\n",
    "print(\"Shape of X_train: \",x_train.shape)\n",
    "print(\"Shape of X_test: \", x_test.shape)\n",
    "print(\"Shape of y_train: \",y_train.shape)\n",
    "print(\"Shape of y_test\",y_test.shape)"
   ]
  },
  {
   "cell_type": "markdown",
   "id": "ace0f030",
   "metadata": {},
   "source": [
    "#### Sklearn Support Vector Classifier Using Linear Kernel"
   ]
  },
  {
   "cell_type": "code",
   "execution_count": null,
   "id": "d3ac963d",
   "metadata": {},
   "outputs": [],
   "source": [
    "# initiating the model\n",
    "model = SVC(kernel='linear', probability=True)\n",
    "\n",
    "# fit the model\n",
    "model.fit(x_train, y_train)"
   ]
  },
  {
   "cell_type": "code",
   "execution_count": null,
   "id": "781e9548",
   "metadata": {},
   "outputs": [],
   "source": [
    "# IMPORTANT: first argument is true values, second argument is predicted values\n",
    "# this produces a 2x2 numpy array (matrix)\n",
    "\n",
    "#Predictions\n",
    "y_pred = model.predict(x_test)\n",
    "\n",
    "print('SVC Model using Linear Kernel accuracy score: {0:0.4f}'. format(accuracy_score(y_test, y_pred)))"
   ]
  },
  {
   "cell_type": "markdown",
   "id": "7bccd40f",
   "metadata": {},
   "source": [
    "#### Classification Report"
   ]
  },
  {
   "cell_type": "code",
   "execution_count": null,
   "id": "ab525d1f",
   "metadata": {},
   "outputs": [],
   "source": [
    "# print the classification report\n",
    "\n",
    "print('SVM Linear Kernel Model','\\n',report(y_test, y_pred))"
   ]
  },
  {
   "cell_type": "markdown",
   "id": "50bab3fc",
   "metadata": {},
   "source": [
    "##### lassification report shows the precision, recall, F1 and support scores for the Logistic Regression classification model.\n",
    "\n",
    "* Precision of 0 represents that for all instances predicted as small size fire, the percentage of fire that actually small is 100%.\n",
    "* Recall is the ability of a classifier to find all positive instances. Recall of 0 indicates that for all fire that is actually small, the model predicts 99% correctly that there would be small fire.\n",
    "\n",
    "* In general, the report shows that SVC model using Linear Kernel has great predictive power to identify the fire size that would be either small or large int the Forest.\n",
    "\n",
    "##### Compare the train-set and test-set accuracy\n",
    "* Now, I will compare the train-set and test-set accuracy to check for overfitting.\n",
    "\n",
    "###### Check for overfitting and underfitting"
   ]
  },
  {
   "cell_type": "code",
   "execution_count": null,
   "id": "6fafa7af",
   "metadata": {},
   "outputs": [],
   "source": [
    "# print the scores on training and test set\n",
    "\n",
    "print('Training set score: {:.2f}%'.format(model.score(x_train, y_train)*100))\n",
    "\n",
    "print('Test set score: {:.2f}%'.format(model.score(x_test, y_test)*100))"
   ]
  },
  {
   "cell_type": "markdown",
   "id": "94befaaa",
   "metadata": {},
   "source": [
    "##### The training-set accuracy score is 100% while the test-set accuracy to be 99.35%. These two values are quite comparable. So, there is no sign of overfitting."
   ]
  },
  {
   "cell_type": "code",
   "execution_count": null,
   "id": "2591a596",
   "metadata": {},
   "outputs": [],
   "source": [
    "# plot confusion matrix to describe the performance of classifier.\n",
    "\n",
    "cm_df=cm(y_test, y_pred)\n",
    "class_label = [\"No\", \"Yes\"]\n",
    "df_cm = pd.DataFrame(cm_df, index = class_label, columns = class_label)\n",
    "sns.heatmap(df_cm, annot = True, fmt = \"d\")\n",
    "plt.title(\"Confusion Matrix\")\n",
    "plt.xlabel(\"Predicted Label\")\n",
    "plt.ylabel(\"Actual Label\")\n",
    "plt.show()"
   ]
  },
  {
   "cell_type": "markdown",
   "id": "793dbcb0",
   "metadata": {},
   "source": [
    "#### ROC - AUC"
   ]
  },
  {
   "cell_type": "code",
   "execution_count": null,
   "id": "bb225c97",
   "metadata": {},
   "outputs": [],
   "source": [
    "fpr, tpr, thresholds = roc_curve(y_test, y_pred)\n",
    "\n",
    "plt.figure(figsize=(8,6))\n",
    "\n",
    "plt.plot(fpr, tpr, linewidth=2, color='red')\n",
    "\n",
    "plt.plot([0,1], [0,1], 'k--' )\n",
    "\n",
    "plt.rcParams['font.size'] = 12\n",
    "\n",
    "plt.title('ROC curve for SVM Classifier using Linear Kernel for Predicting Size_category')\n",
    "\n",
    "plt.xlabel('False Positive Rate (1 - Specificity)')\n",
    "\n",
    "plt.ylabel('True Positive Rate (Sensitivity)')\n",
    "\n",
    "plt.show()\n",
    "\n",
    "ROC_AUC = roc_auc_score(y_test, y_pred)\n",
    "\n",
    "print('ROC AUC : {:.4f}'.format(ROC_AUC))"
   ]
  },
  {
   "cell_type": "code",
   "execution_count": null,
   "id": "ef082ea5",
   "metadata": {},
   "outputs": [],
   "source": [
    "# store the predicted probabilities for class 1 - Probability of Subscription\n",
    "\n",
    "y_pred1 = model.predict_proba(x_test)[:, 1]\n",
    "# plot histogram of predicted probabilities\n",
    "\n",
    "\n",
    "# adjust the font size \n",
    "plt.rcParams['font.size'] = 12\n",
    "\n",
    "\n",
    "# plot histogram with 10 bins\n",
    "plt.hist(y_pred1, bins = 10)\n",
    "\n",
    "\n",
    "# set the title of predicted probabilities\n",
    "plt.title('Histogram of predicted probabilities of Subscription')\n",
    "\n",
    "\n",
    "# set the x-axis limit\n",
    "plt.xlim(0,1)\n",
    "\n",
    "\n",
    "# set the title\n",
    "plt.xlabel('Predicted probabilities of Subscription')\n",
    "plt.ylabel('Frequency')"
   ]
  },
  {
   "cell_type": "markdown",
   "id": "e3061a03",
   "metadata": {},
   "source": [
    "###### Observations\n",
    "* We can see that the above histogram is highly positive skewed.\n",
    "* The first column tell us that there are approximately 5700 observations with probability between 0.0 and 0.1 whose salary is <=50K.\n",
    "* There are relatively small number of observations with probability > 0.5.\n",
    "* So, these small number of observations predict that the salaries will be >50K.\n",
    "  Majority of observations predcit that the salaries will be <=50K.\n",
    "##### Observations\n",
    "* The first column tell us that there are approximately 5700 observations with probability between 0.0 and 0.1 whose salary is <=50K.\n",
    "* There are almost equal amount number of observations for probability greater than and less than 0.5.\n",
    "* Majority of observations predict that the Forest Fire size will be small."
   ]
  },
  {
   "cell_type": "code",
   "execution_count": null,
   "id": "0946a3ff",
   "metadata": {},
   "outputs": [],
   "source": [
    "from sklearn.metrics import roc_auc_score\n",
    "curve = roc_auc_score(y_test, y_pred)\n",
    "print(curve)"
   ]
  },
  {
   "cell_type": "markdown",
   "id": "41eeda0e",
   "metadata": {},
   "source": [
    "##### Comments\n",
    "\n",
    "ROC AUC is a single number summary of classifier performance. The higher the value, the better the classifier.\n",
    "\n",
    "ROC AUC of our model approaches towards 0.5. So, we can conclude that our classifier doesn't do a good job in predicting whether an employee salary will be greater or lesser than 50k."
   ]
  },
  {
   "cell_type": "markdown",
   "id": "6e25770d",
   "metadata": {},
   "source": [
    "#### Sklearn Support Vector Classifier Using Polynomial Kernel\n",
    "##### Polynomial Kernel"
   ]
  },
  {
   "cell_type": "code",
   "execution_count": null,
   "id": "a6a7adb1",
   "metadata": {},
   "outputs": [],
   "source": [
    "# initiating the model\n",
    "model = SVC(kernel='poly', probability=True)\n",
    "\n",
    "# fit the model\n",
    "model.fit(x_train, y_train)"
   ]
  },
  {
   "cell_type": "code",
   "execution_count": null,
   "id": "b440b67a",
   "metadata": {},
   "outputs": [],
   "source": [
    "# IMPORTANT: first argument is true values, second argument is predicted values\n",
    "# this produces a 2x2 numpy array (matrix)\n",
    "\n",
    "#Predictions\n",
    "y_pred = model.predict(x_test)\n",
    "\n",
    "print('SVC Model using Linear Kernel accuracy score: {0:0.4f}'. format(accuracy_score(y_test, y_pred)))"
   ]
  },
  {
   "cell_type": "code",
   "execution_count": null,
   "id": "5c74aba0",
   "metadata": {},
   "outputs": [],
   "source": [
    "# print the classification report\n",
    "\n",
    "print('SVM Linear Kernel Model','\\n',report(y_test, y_pred))"
   ]
  },
  {
   "cell_type": "markdown",
   "id": "a9014480",
   "metadata": {},
   "source": [
    "#### Check for overfitting and underfitting"
   ]
  },
  {
   "cell_type": "code",
   "execution_count": null,
   "id": "02b143e3",
   "metadata": {},
   "outputs": [],
   "source": [
    "# print the scores on training and test set\n",
    "\n",
    "print('Training set score: {:.2f}%'.format(model.score(x_train, y_train)*100))\n",
    "\n",
    "print('Test set score: {:.2f}%'.format(model.score(x_test, y_test)*100))"
   ]
  },
  {
   "cell_type": "code",
   "execution_count": null,
   "id": "42127b50",
   "metadata": {},
   "outputs": [],
   "source": [
    "# plot confusion matrix to describe the performance of classifier.\n",
    "\n",
    "cm_df=cm(y_test, y_pred)\n",
    "class_label = [\"No\", \"Yes\"]\n",
    "df_cm = pd.DataFrame(cm_df, index = class_label, columns = class_label)\n",
    "sns.heatmap(df_cm, annot = True, fmt = \"d\")\n",
    "plt.title(\"Confusion Matrix\")\n",
    "plt.xlabel(\"Predicted Label\")\n",
    "plt.ylabel(\"Actual Label\")\n",
    "plt.show()"
   ]
  },
  {
   "cell_type": "code",
   "execution_count": null,
   "id": "33b6e2ee",
   "metadata": {},
   "outputs": [],
   "source": [
    "fpr, tpr, thresholds = roc_curve(y_test, y_pred)\n",
    "\n",
    "plt.figure(figsize=(8,6))\n",
    "\n",
    "plt.plot(fpr, tpr, linewidth=2, color='red')\n",
    "\n",
    "plt.plot([0,1], [0,1], 'k--' )\n",
    "\n",
    "plt.rcParams['font.size'] = 12\n",
    "\n",
    "plt.title('ROC curve for SVM Classifier using Polynomial Kernel for Predicting Size_category')\n",
    "\n",
    "plt.xlabel('False Positive Rate (1 - Specificity)')\n",
    "\n",
    "plt.ylabel('True Positive Rate (Sensitivity)')\n",
    "\n",
    "plt.show()\n",
    "\n",
    "ROC_AUC = roc_auc_score(y_test, y_pred)\n",
    "\n",
    "print('ROC AUC : {:.4f}'.format(ROC_AUC))"
   ]
  },
  {
   "cell_type": "code",
   "execution_count": null,
   "id": "ba6d4c14",
   "metadata": {},
   "outputs": [],
   "source": [
    "# store the predicted probabilities for class 1 - Probability of Subscription\n",
    "\n",
    "y_pred1 = model.predict_proba(x_test)[:, 1]\n",
    "# plot histogram of predicted probabilities\n",
    "\n",
    "\n",
    "# adjust the font size \n",
    "plt.rcParams['font.size'] = 12\n",
    "\n",
    "\n",
    "# plot histogram with 10 bins\n",
    "plt.hist(y_pred1, bins = 10)\n",
    "\n",
    "\n",
    "# set the title of predicted probabilities\n",
    "plt.title('Histogram of predicted probabilities of Subscription')\n",
    "\n",
    "\n",
    "# set the x-axis limit\n",
    "plt.xlim(0,1)\n",
    "\n",
    "\n",
    "# set the title\n",
    "plt.xlabel('Predicted probabilities of Subscription')\n",
    "plt.ylabel('Frequency')"
   ]
  },
  {
   "cell_type": "code",
   "execution_count": null,
   "id": "4149307d",
   "metadata": {},
   "outputs": [],
   "source": [
    "from sklearn.metrics import roc_auc_score\n",
    "curve = roc_auc_score(y_test, y_pred)\n",
    "print(curve)"
   ]
  },
  {
   "cell_type": "markdown",
   "id": "9f6b6061",
   "metadata": {},
   "source": [
    "### Sklearn Support Vector Classifier Using RBF Kernel\n",
    "##### Radial Basis Function Kernel"
   ]
  },
  {
   "cell_type": "code",
   "execution_count": null,
   "id": "3d8901f7",
   "metadata": {},
   "outputs": [],
   "source": [
    "# initiating the model\n",
    "model = SVC(kernel='rbf', probability=True)\n",
    "\n",
    "# fit the model\n",
    "model.fit(x_train, y_train)"
   ]
  },
  {
   "cell_type": "code",
   "execution_count": null,
   "id": "6705e9e0",
   "metadata": {},
   "outputs": [],
   "source": [
    "# IMPORTANT: first argument is true values, second argument is predicted values\n",
    "# this produces a 2x2 numpy array (matrix)\n",
    "\n",
    "#Predictions\n",
    "y_pred = model.predict(x_test)\n",
    "\n",
    "print('SVC Model using Linear Kernel accuracy score: {0:0.4f}'. format(accuracy_score(y_test, y_pred)))"
   ]
  },
  {
   "cell_type": "code",
   "execution_count": null,
   "id": "4d5c630f",
   "metadata": {},
   "outputs": [],
   "source": [
    "# print the classification report\n",
    "\n",
    "print('SVM Linear Kernel Model','\\n',report(y_test, y_pred))"
   ]
  },
  {
   "cell_type": "markdown",
   "id": "97042366",
   "metadata": {},
   "source": [
    "#### Check for overfitting and underfitting"
   ]
  },
  {
   "cell_type": "code",
   "execution_count": null,
   "id": "31f40d9c",
   "metadata": {},
   "outputs": [],
   "source": [
    "# print the scores on training and test set\n",
    "\n",
    "print('Training set score: {:.2f}%'.format(model.score(x_train, y_train)*100))\n",
    "\n",
    "print('Test set score: {:.2f}%'.format(model.score(x_test, y_test)*100))"
   ]
  },
  {
   "cell_type": "code",
   "execution_count": null,
   "id": "2c60a4cb",
   "metadata": {},
   "outputs": [],
   "source": [
    "# plot confusion matrix to describe the performance of classifier.\n",
    "\n",
    "cm_df=cm(y_test, y_pred)\n",
    "class_label = [\"No\", \"Yes\"]\n",
    "df_cm = pd.DataFrame(cm_df, index = class_label, columns = class_label)\n",
    "sns.heatmap(df_cm, annot = True, fmt = \"d\")\n",
    "plt.title(\"Confusion Matrix\")\n",
    "plt.xlabel(\"Predicted Label\")\n",
    "plt.ylabel(\"Actual Label\")\n",
    "plt.show()"
   ]
  },
  {
   "cell_type": "code",
   "execution_count": null,
   "id": "9d1a32aa",
   "metadata": {},
   "outputs": [],
   "source": [
    "fpr, tpr, thresholds = roc_curve(y_test, y_pred)\n",
    "\n",
    "plt.figure(figsize=(8,6))\n",
    "\n",
    "plt.plot(fpr, tpr, linewidth=2, color='red')\n",
    "\n",
    "plt.plot([0,1], [0,1], 'k--' )\n",
    "\n",
    "plt.rcParams['font.size'] = 12\n",
    "\n",
    "plt.title('ROC curve for SVM Classifier using Polynomial Kernel for Predicting Size_category')\n",
    "\n",
    "plt.xlabel('False Positive Rate (1 - Specificity)')\n",
    "\n",
    "plt.ylabel('True Positive Rate (Sensitivity)')\n",
    "\n",
    "plt.show()\n",
    "\n",
    "ROC_AUC = roc_auc_score(y_test, y_pred)\n",
    "\n",
    "print('ROC AUC : {:.4f}'.format(ROC_AUC))\n"
   ]
  },
  {
   "cell_type": "code",
   "execution_count": null,
   "id": "8be21f63",
   "metadata": {},
   "outputs": [],
   "source": [
    "# store the predicted probabilities for class 1 - Probability of Subscription\n",
    "\n",
    "y_pred1 = model.predict_proba(x_test)[:, 1]\n",
    "# plot histogram of predicted probabilities\n",
    "\n",
    "\n",
    "# adjust the font size \n",
    "plt.rcParams['font.size'] = 12\n",
    "\n",
    "\n",
    "# plot histogram with 10 bins\n",
    "plt.hist(y_pred1, bins = 10)\n",
    "\n",
    "\n",
    "# set the title of predicted probabilities\n",
    "plt.title('Histogram of predicted probabilities of Subscription')\n",
    "\n",
    "\n",
    "# set the x-axis limit\n",
    "plt.xlim(0,1)\n",
    "\n",
    "\n",
    "# set the title\n",
    "plt.xlabel('Predicted probabilities of Subscription')\n",
    "plt.ylabel('Frequency')"
   ]
  },
  {
   "cell_type": "code",
   "execution_count": null,
   "id": "9e997a22",
   "metadata": {},
   "outputs": [],
   "source": [
    "from sklearn.metrics import roc_auc_score\n",
    "curve = roc_auc_score(y_test, y_pred)\n",
    "print(curve)"
   ]
  },
  {
   "cell_type": "markdown",
   "id": "e4d128d5",
   "metadata": {},
   "source": [
    "####  Sklearn Support Vector Classifier Using Sigmoid kernel\n",
    "Sigmoid kernel"
   ]
  },
  {
   "cell_type": "code",
   "execution_count": null,
   "id": "ce9640e1",
   "metadata": {},
   "outputs": [],
   "source": [
    "# initiating the model\n",
    "model = SVC(kernel='sigmoid', probability=True)\n",
    "\n",
    "# fit the model\n",
    "model.fit(x_train, y_train)"
   ]
  },
  {
   "cell_type": "code",
   "execution_count": null,
   "id": "d8c5bcee",
   "metadata": {},
   "outputs": [],
   "source": [
    "# IMPORTANT: first argument is true values, second argument is predicted values\n",
    "# this produces a 2x2 numpy array (matrix)\n",
    "\n",
    "#Predictions\n",
    "y_pred = model.predict(x_test)\n",
    "\n",
    "print('SVC Model using Linear Kernel accuracy score: {0:0.4f}'. format(accuracy_score(y_test, y_pred)))"
   ]
  },
  {
   "cell_type": "code",
   "execution_count": null,
   "id": "2fbf2c07",
   "metadata": {},
   "outputs": [],
   "source": [
    "# print the classification report\n",
    "\n",
    "print('SVM Linear Kernel Model','\\n',report(y_test, y_pred))"
   ]
  },
  {
   "cell_type": "markdown",
   "id": "8455d6cd",
   "metadata": {},
   "source": [
    "### Check for overfitting and underfitting"
   ]
  },
  {
   "cell_type": "code",
   "execution_count": null,
   "id": "ca6cb9f9",
   "metadata": {},
   "outputs": [],
   "source": [
    "# print the scores on training and test set\n",
    "\n",
    "print('Training set score: {:.2f}%'.format(model.score(x_train, y_train)*100))\n",
    "\n",
    "print('Test set score: {:.2f}%'.format(model.score(x_test, y_test)*100))"
   ]
  },
  {
   "cell_type": "code",
   "execution_count": null,
   "id": "51672fb8",
   "metadata": {},
   "outputs": [],
   "source": [
    "# plot confusion matrix to describe the performance of classifier.\n",
    "\n",
    "cm_df=cm(y_test, y_pred)\n",
    "class_label = [\"No\", \"Yes\"]\n",
    "df_cm = pd.DataFrame(cm_df, index = class_label, columns = class_label)\n",
    "sns.heatmap(df_cm, annot = True, fmt = \"d\")\n",
    "plt.title(\"Confusion Matrix\")\n",
    "plt.xlabel(\"Predicted Label\")\n",
    "plt.ylabel(\"Actual Label\")\n",
    "plt.show()"
   ]
  },
  {
   "cell_type": "code",
   "execution_count": null,
   "id": "454f37f9",
   "metadata": {},
   "outputs": [],
   "source": [
    "fpr, tpr, thresholds = roc_curve(y_test, y_pred)\n",
    "\n",
    "plt.figure(figsize=(8,6))\n",
    "\n",
    "plt.plot(fpr, tpr, linewidth=2, color='red')\n",
    "\n",
    "plt.plot([0,1], [0,1], 'k--' )\n",
    "\n",
    "plt.rcParams['font.size'] = 12\n",
    "\n",
    "plt.title('ROC curve for SVM Classifier using Polynomial Kernel for Predicting Size_category')\n",
    "\n",
    "plt.xlabel('False Positive Rate (1 - Specificity)')\n",
    "\n",
    "plt.ylabel('True Positive Rate (Sensitivity)')\n",
    "\n",
    "plt.show()\n",
    "\n",
    "ROC_AUC = roc_auc_score(y_test, y_pred)\n",
    "\n",
    "print('ROC AUC : {:.4f}'.format(ROC_AUC))"
   ]
  },
  {
   "cell_type": "code",
   "execution_count": null,
   "id": "6ded7927",
   "metadata": {},
   "outputs": [],
   "source": [
    "# store the predicted probabilities for class 1 - Probability of Subscription\n",
    "\n",
    "y_pred1 = model.predict_proba(x_test)[:, 1]\n",
    "# plot histogram of predicted probabilities\n",
    "\n",
    "\n",
    "# adjust the font size \n",
    "plt.rcParams['font.size'] = 12\n",
    "\n",
    "\n",
    "# plot histogram with 10 bins\n",
    "plt.hist(y_pred1, bins = 10)\n",
    "\n",
    "\n",
    "# set the title of predicted probabilities\n",
    "plt.title('Histogram of predicted probabilities of Subscription')\n",
    "\n",
    "\n",
    "# set the x-axis limit\n",
    "plt.xlim(0,1)\n",
    "\n",
    "\n",
    "# set the title\n",
    "plt.xlabel('Predicted probabilities of Subscription')\n",
    "plt.ylabel('Frequency')"
   ]
  },
  {
   "cell_type": "code",
   "execution_count": null,
   "id": "9f3591e1",
   "metadata": {},
   "outputs": [],
   "source": [
    "from sklearn.metrics import roc_auc_score\n",
    "curve = roc_auc_score(y_test, y_pred)\n",
    "print(curve)"
   ]
  },
  {
   "cell_type": "markdown",
   "id": "e7ef4b86",
   "metadata": {},
   "source": [
    "### Hyperparameter Tuning to improve Accuracy"
   ]
  },
  {
   "cell_type": "code",
   "execution_count": null,
   "id": "ac746f18",
   "metadata": {},
   "outputs": [],
   "source": [
    "SVMC = SVC(random_state=42)\n",
    "\n",
    "svc_param_grid = {'kernel': ['rbf', 'sigmoid', 'poly','linear'], \n",
    "                  'gamma': [1, 0.1, 0.01, 0.001],\n",
    "                  'C': [1000, 100, 10, 1],\n",
    "                  'tol':[0.001,0.0008,0.0009,0.0011]}\n",
    "\n",
    "gsSVMC = GridSearchCV(SVMC, param_grid = svc_param_grid, cv = 10, scoring = \"accuracy\", n_jobs = 6, verbose = 1)\n",
    "\n",
    "gsSVMC.fit(x_train,y_train)\n",
    "\n",
    "svm_best = gsSVMC.best_estimator_\n",
    "\n",
    "gsSVMC.best_score_"
   ]
  },
  {
   "cell_type": "code",
   "execution_count": null,
   "id": "70ed777d",
   "metadata": {},
   "outputs": [],
   "source": [
    "gsSVMC.best_params_"
   ]
  },
  {
   "cell_type": "code",
   "execution_count": null,
   "id": "780b9697",
   "metadata": {},
   "outputs": [],
   "source": [
    "predict_results = svm_best.predict(x_test)\n",
    "np.mean(predict_results==y_test)"
   ]
  },
  {
   "cell_type": "code",
   "execution_count": null,
   "id": "4d162e03",
   "metadata": {},
   "outputs": [],
   "source": [
    "# import GridSearchCV\n",
    "from sklearn.model_selection import GridSearchCV\n",
    "\n",
    "\n",
    "# import SVC classifier\n",
    "from sklearn.svm import SVC\n",
    "\n",
    "\n",
    "# instantiate classifier with default hyperparameters with kernel=rbf, C=1.0 and gamma=auto\n",
    "svc=SVC() \n",
    "\n",
    "\n",
    "\n",
    "# declare parameters for hyperparameter tuning\n",
    "parameters = [ {'C':[1, 10, 100, 1000], 'kernel':['linear']},\n",
    "               {'C':[1, 10, 100, 1000], 'kernel':['rbf'], 'gamma':[0.1, 0.2, 0.3, 0.4, 0.5, 0.6, 0.7, 0.8, 0.9]},\n",
    "               {'C':[1, 10, 100, 1000], 'kernel':['poly'], 'degree': [2,3,4] ,'gamma':[0.01,0.02,0.03,0.04,0.05]} \n",
    "              ]\n",
    "\n",
    "\n",
    "\n",
    "\n",
    "grid_search = GridSearchCV(estimator = svc,  \n",
    "                           param_grid = parameters,\n",
    "                           scoring = 'accuracy',\n",
    "                           cv = 10,\n",
    "                           verbose=0)\n",
    "\n",
    "\n",
    "grid_search.fit(x_train, y_train)"
   ]
  },
  {
   "cell_type": "code",
   "execution_count": null,
   "id": "28a1fe8e",
   "metadata": {},
   "outputs": [],
   "source": [
    "# examine the best model\n",
    "\n",
    "\n",
    "# best score achieved during the GridSearchCV\n",
    "print('GridSearch CV best score : {:.4f}\\n\\n'.format(grid_search.best_score_))\n",
    "\n",
    "\n",
    "# print parameters that give the best results\n",
    "print('Parameters that give the best results :','\\n\\n', (grid_search.best_params_))\n",
    "\n",
    "\n",
    "# print estimator that was chosen by the GridSearch\n",
    "print('\\n\\nEstimator that was chosen by the search :','\\n\\n', (grid_search.best_estimator_))"
   ]
  },
  {
   "cell_type": "code",
   "execution_count": null,
   "id": "035b72ef",
   "metadata": {},
   "outputs": [],
   "source": [
    "# calculate GridSearch CV score on test set\n",
    "\n",
    "print('GridSearch CV score on test set: {0:0.4f}'.format(grid_search.score(x_test, y_test)))"
   ]
  },
  {
   "cell_type": "code",
   "execution_count": null,
   "id": "890697b3",
   "metadata": {},
   "outputs": [],
   "source": []
  },
  {
   "cell_type": "code",
   "execution_count": null,
   "id": "0e65409b",
   "metadata": {},
   "outputs": [],
   "source": []
  }
 ],
 "metadata": {
  "kernelspec": {
   "display_name": "Python 3 (ipykernel)",
   "language": "python",
   "name": "python3"
  },
  "language_info": {
   "codemirror_mode": {
    "name": "ipython",
    "version": 3
   },
   "file_extension": ".py",
   "mimetype": "text/x-python",
   "name": "python",
   "nbconvert_exporter": "python",
   "pygments_lexer": "ipython3",
   "version": "3.9.12"
  }
 },
 "nbformat": 4,
 "nbformat_minor": 5
}
